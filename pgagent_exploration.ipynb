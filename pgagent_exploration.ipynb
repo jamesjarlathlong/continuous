{
 "cells": [
  {
   "cell_type": "code",
   "execution_count": null,
   "metadata": {
    "collapsed": true
   },
   "outputs": [],
   "source": [
    "import gym\n",
    "import seaborn as sns\n",
    "from gym import spaces\n",
    "from gym.utils import seeding\n",
    "from gym.envs.registration import registry, register, make, spec\n",
    "import matplotlib\n",
    "import matplotlib.pyplot as plt\n",
    "%matplotlib inline\n",
    "from multi_sensor_env import get_new_state, get_reward"
   ]
  },
  {
   "cell_type": "code",
   "execution_count": null,
   "metadata": {},
   "outputs": [],
   "source": [
    "register(\n",
    "    id='Sensor-v0',\n",
    "    entry_point='sensor_env:SensorEnv',\n",
    ")\n",
    "register(\n",
    "    id='MultiSensor-v0',\n",
    "    entry_point='multi_sensor_env:MultiSensorEnv',\n",
    ")\n",
    "register(\n",
    "    id='TestMultiSensor-v0',\n",
    "    entry_point='multi_sensor_env:TestSensorEnv',\n",
    ")"
   ]
  },
  {
   "cell_type": "code",
   "execution_count": null,
   "metadata": {
    "collapsed": true
   },
   "outputs": [],
   "source": [
    "env = gym.make('MultiSensor-v0')\n"
   ]
  },
  {
   "cell_type": "code",
   "execution_count": null,
   "metadata": {},
   "outputs": [],
   "source": [
    "class RandomAgent(object):\n",
    "    \"\"\"The world's simplest agent!\"\"\"\n",
    "    def __init__(self, action_space):\n",
    "        self.action_space = action_space\n",
    "    def act(self, observation, reward, done):\n",
    "        return self.action_space.sample()\n",
    "agent = RandomAgent(env.action_space)\n",
    "episode_count = 2\n",
    "reward = 0\n",
    "done=False\n",
    "for i in range(episode_count):\n",
    "        ob = env.reset()\n",
    "        while True:\n",
    "            action = agent.act(ob, reward, done)\n",
    "            print(ob,action)\n",
    "            ob, reward, done, _ = env.step(action)\n",
    "            if done:\n",
    "                break"
   ]
  },
  {
   "cell_type": "code",
   "execution_count": null,
   "metadata": {},
   "outputs": [],
   "source": [
    "import pglearner\n",
    "pgagent = pglearner.PgLearner(env, learning_rate = 1e-3, n_episodes=2000,gamma=0.99,\n",
    "                              modeldir='tmp/slow', batch=5,max_env_steps=200)\n",
    "pgagent.run()"
   ]
  },
  {
   "cell_type": "code",
   "execution_count": null,
   "metadata": {},
   "outputs": [],
   "source": [
    "env.observation_space.sample()"
   ]
  },
  {
   "cell_type": "code",
   "execution_count": null,
   "metadata": {
    "collapsed": true
   },
   "outputs": [],
   "source": []
  },
  {
   "cell_type": "code",
   "execution_count": null,
   "metadata": {
    "collapsed": true
   },
   "outputs": [],
   "source": []
  },
  {
   "cell_type": "code",
   "execution_count": null,
   "metadata": {
    "collapsed": true
   },
   "outputs": [],
   "source": []
  },
  {
   "cell_type": "code",
   "execution_count": null,
   "metadata": {
    "collapsed": true
   },
   "outputs": [],
   "source": []
  }
 ],
 "metadata": {
  "kernelspec": {
   "display_name": "continuous",
   "language": "python",
   "name": "continuous"
  },
  "language_info": {
   "codemirror_mode": {
    "name": "ipython",
    "version": 3
   },
   "file_extension": ".py",
   "mimetype": "text/x-python",
   "name": "python",
   "nbconvert_exporter": "python",
   "pygments_lexer": "ipython3",
   "version": "3.4.3"
  }
 },
 "nbformat": 4,
 "nbformat_minor": 2
}
