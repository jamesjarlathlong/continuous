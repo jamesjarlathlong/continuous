{
 "cells": [
  {
   "cell_type": "code",
   "execution_count": 1,
   "metadata": {},
   "outputs": [],
   "source": [
    "import numpy as np\n",
    "import solar_sensor_env\n",
    "import itertools\n",
    "import functools"
   ]
  },
  {
   "cell_type": "code",
   "execution_count": 2,
   "metadata": {},
   "outputs": [
    {
     "name": "stdout",
     "output_type": "stream",
     "text": [
      "0.4293984145236512 0.4293984145236512\n"
     ]
    }
   ],
   "source": [
    "solarfname = 'training_12'\n",
    "solarrecord = solar_sensor_env.get_generated_power(solarfname)\n",
    "monthrecord = solar_sensor_env.get_month(solarrecord,8)\n",
    "deltat = 3\n",
    "num_ts = int(24/deltat)\n",
    "powerseries = solar_sensor_env.downsample(monthrecord, factor=int(48/num_ts))\n",
    "#sanity check\n",
    "print(sum(powerseries[0:8])/8, sum(monthrecord[0:48])/48)"
   ]
  },
  {
   "cell_type": "code",
   "execution_count": 3,
   "metadata": {},
   "outputs": [],
   "source": [
    "def generate_all_dutycycle_plans(times = 8):\n",
    "    possibilities = [0,0.1,0.2,0.3,0.4,0.5,0.6,0.7,0.8,0.9,1]\n",
    "    all_combs = itertools.product(possibilities, repeat=times)\n",
    "    for comb in all_combs:\n",
    "        yield comb\n",
    "def calculate_consumed(duty_cycle):\n",
    "    discharge_voltage = 3.7\n",
    "    deltat = 3\n",
    "    on_power = 56+45+15#mAh pyboard plus digimesh plus accel\n",
    "    off_power = 45#mAh\n",
    "    deepsleeppower = 0.5\n",
    "    if duty_cycle >0:#sleeping\n",
    "        used_power = (on_power*discharge_voltage*deltat*duty_cycle)+(off_power*discharge_voltage*deltat*(1-duty_cycle))\n",
    "    else:#either pre-sleep or awake\n",
    "        used_power = (deepsleeppower*deltat*discharge_voltage)\n",
    "    return used_power\n",
    "def evaluate_cost(harvest_prediction,aplan, deltat = 3):\n",
    "    total_consumed = sum([calculate_consumed(duty) for duty in aplan]) #in MWh\n",
    "    total_harvested = sum(harvest_prediction)*1000\n",
    "    return np.abs(total_consumed - total_harvested)\n",
    "    "
   ]
  },
  {
   "cell_type": "markdown",
   "metadata": {},
   "source": [
    "min all i in day \n",
    "(duty_i*on_cost +(1-duty_i)*off_cost...(1-duty_n)*off_cost) - harvested\n",
    "s.t.\n",
    "0<duty_i<1\n",
    "\n",
    "maximise the sum of duty cycle,\n",
    "constrain such that the battery ending must be greater eq than the battery starting,\n",
    "and no battery is less than zero"
   ]
  },
  {
   "cell_type": "code",
   "execution_count": 4,
   "metadata": {},
   "outputs": [],
   "source": [
    "cost_evaluator = functools.partial(evaluate_cost, powerseries[0:8])"
   ]
  },
  {
   "cell_type": "code",
   "execution_count": 5,
   "metadata": {},
   "outputs": [],
   "source": [
    "plans= generate_all_dutycycle_plans()\n",
    "min_cost_plan = min(((plan,cost_evaluator(plan)) for plan in plans), key=lambda i:i[1])"
   ]
  },
  {
   "cell_type": "code",
   "execution_count": 6,
   "metadata": {},
   "outputs": [
    {
     "data": {
      "text/plain": [
       "((0, 0, 0, 0, 0.1, 0.3, 1, 0.4), 3.5926838107902768)"
      ]
     },
     "execution_count": 6,
     "metadata": {},
     "output_type": "execute_result"
    }
   ],
   "source": [
    "min_cost_plan"
   ]
  },
  {
   "cell_type": "code",
   "execution_count": null,
   "metadata": {},
   "outputs": [],
   "source": []
  },
  {
   "cell_type": "code",
   "execution_count": null,
   "metadata": {},
   "outputs": [],
   "source": []
  }
 ],
 "metadata": {
  "kernelspec": {
   "display_name": "continuous",
   "language": "python",
   "name": "continuous"
  },
  "language_info": {
   "codemirror_mode": {
    "name": "ipython",
    "version": 3
   },
   "file_extension": ".py",
   "mimetype": "text/x-python",
   "name": "python",
   "nbconvert_exporter": "python",
   "pygments_lexer": "ipython3",
   "version": "3.5.2"
  }
 },
 "nbformat": 4,
 "nbformat_minor": 2
}
