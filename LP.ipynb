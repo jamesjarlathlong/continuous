{
 "cells": [
  {
   "cell_type": "code",
   "execution_count": 263,
   "metadata": {},
   "outputs": [],
   "source": [
    "import numpy as np\n",
    "import solar_sensor_env\n",
    "import itertools\n",
    "import functools\n",
    "import pulp\n",
    "import collections\n",
    "def get_month(solarrecord, startmonth):\n",
    "    startidx = startmonth*30*48\n",
    "    finishidx = (startmonth+1)*30*48\n",
    "    return solarrecord[startidx:finishidx]\n",
    "import seaborn as sns"
   ]
  },
  {
   "cell_type": "code",
   "execution_count": 258,
   "metadata": {},
   "outputs": [
    {
     "name": "stdout",
     "output_type": "stream",
     "text": [
      "0.4293984145236512 0.4293984145236512\n"
     ]
    }
   ],
   "source": [
    "solarfname = 'training_12'\n",
    "solarrecord = solar_sensor_env.get_generated_power(solarfname)\n",
    "monthrecord = get_month(solarrecord,8)\n",
    "#sanity check\n",
    "print(sum(powerseries[0:8])/8, sum(monthrecord[0:48])/48)"
   ]
  },
  {
   "cell_type": "code",
   "execution_count": 202,
   "metadata": {
    "collapsed": true
   },
   "outputs": [],
   "source": [
    "def generate_all_dutycycle_plans(times = 8):\n",
    "    possibilities = [0,0.1,0.2,0.3,0.4,0.5,0.6,0.7,0.8,0.9,1]\n",
    "    all_combs = itertools.product(possibilities, repeat=times)\n",
    "    for comb in all_combs:\n",
    "        yield comb\n",
    "def calculate_consumed(duty_cycle):\n",
    "    discharge_voltage = 3.7\n",
    "    deltat = 3\n",
    "    on_power = 56+45+15#mAh pyboard plus digimesh plus accel\n",
    "    off_power = 45#mAh\n",
    "    deepsleeppower = 0.5\n",
    "    if duty_cycle >0:#sleeping\n",
    "        used_power = (on_power*discharge_voltage*deltat*duty_cycle)+(off_power*discharge_voltage*deltat*(1-duty_cycle))\n",
    "    else:#either pre-sleep or awake\n",
    "        used_power = (deepsleeppower*deltat*discharge_voltage)\n",
    "    return used_power\n",
    "def evaluate_cost(harvest_prediction,aplan, deltat = 3):\n",
    "    total_consumed = sum([calculate_consumed(duty) for duty in aplan]) #in MWh\n",
    "    total_harvested = sum(harvest_prediction)*1000\n",
    "    return np.abs(total_consumed - total_harvested)\n",
    "    "
   ]
  },
  {
   "cell_type": "markdown",
   "metadata": {},
   "source": [
    "min all i in day \n",
    "(duty_i*on_cost +(1-duty_i)*off_cost...(1-duty_n)*off_cost) - harvested\n",
    "s.t.\n",
    "0<duty_i<1\n",
    "\n",
    "maximise the sum of duty cycle,\n",
    "constrain such that the battery ending must be greater eq than the battery starting,\n",
    "and no battery is less than zero"
   ]
  },
  {
   "cell_type": "code",
   "execution_count": 203,
   "metadata": {
    "collapsed": true
   },
   "outputs": [],
   "source": [
    "cost_evaluator = functools.partial(evaluate_cost, powerseries[0:8])"
   ]
  },
  {
   "cell_type": "code",
   "execution_count": null,
   "metadata": {
    "collapsed": true
   },
   "outputs": [],
   "source": [
    "plans= generate_all_dutycycle_plans()\n",
    "min_cost_plan = min(((plan,cost_evaluator(plan)) for plan in plans), key=lambda i:i[1])"
   ]
  },
  {
   "cell_type": "code",
   "execution_count": null,
   "metadata": {
    "collapsed": true
   },
   "outputs": [],
   "source": [
    "min_cost_plan"
   ]
  },
  {
   "cell_type": "code",
   "execution_count": 253,
   "metadata": {
    "collapsed": true
   },
   "outputs": [],
   "source": [
    "def cost_calculator(deltat,dutycycle):\n",
    "    discharge_voltage = 3.7\n",
    "    on_power = 56+45+15#mAh pyboard plus digimesh plus accel\n",
    "    off_power = 0.5\n",
    "    used_power = (on_power*discharge_voltage*deltat*dutycycle)+(off_power*discharge_voltage*deltat*(1-dutycycle))\n",
    "    return used_power\n",
    "def generate_constraint(deltat,b0,harvested,duty_vars, t):\n",
    "    #b1>0\n",
    "    accumulated = [b0]+[-cost_calculator(deltat,duty_vars[i]) + 1000*deltat*harvested[i] for i in range(t)]\n",
    "    return accumulated\n",
    "    "
   ]
  },
  {
   "cell_type": "code",
   "execution_count": 267,
   "metadata": {},
   "outputs": [
    {
     "name": "stdout",
     "output_type": "stream",
     "text": [
      "672 672\n"
     ]
    }
   ],
   "source": [
    "problem = pulp.LpProblem('ENO',pulp.LpMaximize)\n",
    "deltat = 1\n",
    "num_ts = int(24/deltat)\n",
    "times = num_ts*28\n",
    "duty_vars = pulp.LpVariable.dicts(\"D\",[t for t in range(times)],0, 1,'Binary')\n",
    "capacity = 2000*3.7 #mAh*3.7V\n",
    "b_0= 0.3*capacity\n",
    "problem+=pulp.lpSum(duty_vars)\n",
    "day=0\n",
    "powerseries = solar_sensor_env.downsample(monthrecord, factor=int(48/num_ts))\n",
    "series = powerseries[day*num_ts:day*num_ts+times]\n",
    "print(len(series),times)\n",
    "#add constraints to ensure nonzero battery at all times\n",
    "for i in range(1,times+1):\n",
    "    b_i = generate_constraint(deltat,b_0,series, duty_vars, i)\n",
    "    problem += (pulp.lpSum(b_i)>=0,'nonzero batt at t ={}'.format(i))\n",
    "    #problem += (pulp.lpSum(b_i)<=capacity,'non max batt at t ={}'.format(i))\n",
    "#add constraint to ensure energy positive operation\n",
    "b_end = generate_constraint(deltat,b_0,series, duty_vars, times)\n",
    "problem+=(pulp.lpSum(b_end)>=b_0,'battery at end must be greater than battery at start')"
   ]
  },
  {
   "cell_type": "code",
   "execution_count": null,
   "metadata": {},
   "outputs": [],
   "source": []
  },
  {
   "cell_type": "code",
   "execution_count": 268,
   "metadata": {},
   "outputs": [
    {
     "data": {
      "text/plain": [
       "1"
      ]
     },
     "execution_count": 268,
     "metadata": {},
     "output_type": "execute_result"
    }
   ],
   "source": [
    "problem.solve()"
   ]
  },
  {
   "cell_type": "code",
   "execution_count": null,
   "metadata": {},
   "outputs": [],
   "source": []
  },
  {
   "cell_type": "code",
   "execution_count": 269,
   "metadata": {},
   "outputs": [
    {
     "data": {
      "image/png": "[encoded data removed]",
      "text/plain": [
       "<Figure size 432x288 with 1 Axes>"
      ]
     },
     "metadata": {},
     "output_type": "display_data"
    }
   ],
   "source": [
    "import matplotlib.pyplot as plt\n",
    "fig,ax = plt.subplots(1)\n",
    "vals = sorted([v for v in problem.variables()], key=lambda i:int(i.name.split('_')[1]))\n",
    "dseries = [v.varValue for v in vals]\n",
    "ax.plot(dseries)\n",
    "sns.despine()"
   ]
  },
  {
   "cell_type": "code",
   "execution_count": 270,
   "metadata": {},
   "outputs": [
    {
     "data": {
      "text/plain": [
       "0.7291666666666666"
      ]
     },
     "execution_count": 270,
     "metadata": {},
     "output_type": "execute_result"
    }
   ],
   "source": [
    "import numpy as np\n",
    "np.mean(dseries)"
   ]
  },
  {
   "cell_type": "code",
   "execution_count": null,
   "metadata": {
    "collapsed": true
   },
   "outputs": [],
   "source": [
    "powerseire"
   ]
  },
  {
   "cell_type": "code",
   "execution_count": null,
   "metadata": {
    "collapsed": true
   },
   "outputs": [],
   "source": []
  }
 ],
 "metadata": {
  "kernelspec": {
   "display_name": "continuous",
   "language": "python",
   "name": "continuous"
  },
  "language_info": {
   "codemirror_mode": {
    "name": "ipython",
    "version": 3
   },
   "file_extension": ".py",
   "mimetype": "text/x-python",
   "name": "python",
   "nbconvert_exporter": "python",
   "pygments_lexer": "ipython3",
   "version": "3.4.3"
  }
 },
 "nbformat": 4,
 "nbformat_minor": 2
}
