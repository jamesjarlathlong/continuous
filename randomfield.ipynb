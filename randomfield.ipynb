{
 "cells": [
  {
   "cell_type": "code",
   "execution_count": null,
   "metadata": {
    "collapsed": true
   },
   "outputs": [],
   "source": [
    "import functools\n",
    "import scipy as sp\n",
    "import numpy as np\n",
    "import seaborn\n",
    "import matplotlib.pyplot as plt\n",
    "import seaborn as sns\n",
    "import itertools\n",
    "import pandas as pd\n",
    "import time\n",
    "% matplotlib inline\n",
    "def timeit(method):\n",
    "    def timed(*args, **kw):\n",
    "        ts = time.time()\n",
    "        result = method(*args, **kw)\n",
    "        te = time.time()\n",
    "        print('%r  %2.2f ms' % \\\n",
    "                  (method.__name__, (te - ts) * 1000))\n",
    "        return result\n",
    "    return timed\n",
    "import math"
   ]
  },
  {
   "cell_type": "code",
   "execution_count": null,
   "metadata": {
    "collapsed": true
   },
   "outputs": [],
   "source": [
    "def euclidean(p1,p2):\n",
    "    diff = np.subtract(p1,p2)\n",
    "    dist = np.linalg.norm(diff)\n",
    "    return dist\n",
    "def iso_cov(phi, p1, p2):\n",
    "    \"\"\"a function that returns the correlation\n",
    "    between two oned points\"\"\"\n",
    "    sigma = 1\n",
    "    dist = euclidean(p1,p2)\n",
    "    return sigma**2 * np.exp(-dist/phi)\n",
    "def aniso2d_cov(phi,factor, p1, p2):\n",
    "    sigma = 1\n",
    "    dist0 = euclidean(p1[0],p2[0])\n",
    "    dist1 = euclidean(p1[1],p2[1])\n",
    "    phi2 = phi*factor\n",
    "    expon = math.sqrt((dist0/phi)**2 + (dist1/phi2)**2)\n",
    "    return sigma**2 * np.exp(-expon)\n",
    "@timeit\n",
    "def form_cov_matrix(list_of_points, covfun):\n",
    "    \"\"\"given a list of points \"\"\"\n",
    "    npoints = len(list_of_points)\n",
    "    mat = np.zeros((npoints, npoints))\n",
    "    allcombs = itertools.product(enumerate(list_of_points), enumerate(list_of_points))\n",
    "    for (i, elementi), (j,elementj) in allcombs:\n",
    "            mat[i,j] = covfun(elementi, elementj)\n",
    "    return mat\n",
    "    \n",
    "@timeit\n",
    "def simulate(covmatrix):\n",
    "    \"\"\"given a covariance matrix perform the\n",
    "    cholesky decomposition to find lower triangular L\n",
    "    such that L*L^H = covmatrix, then multiply L by a \n",
    "    vector of zero mean unit variance random normal\n",
    "    numbers to return a realisation of the random process\"\"\"\n",
    "    n,n = np.shape(covmatrix)\n",
    "    print(n,n)\n",
    "    L = np.linalg.cholesky(covmatrix)#nxn triangular matrix\n",
    "    rands = np.random.normal(size = (n,1))\n",
    "    sim = np.dot(L , rands)\n",
    "    return sim"
   ]
  },
  {
   "cell_type": "markdown",
   "metadata": {},
   "source": [
    "### Test 1D case"
   ]
  },
  {
   "cell_type": "code",
   "execution_count": null,
   "metadata": {},
   "outputs": [],
   "source": [
    "vector = range(50)\n",
    "volatilecov = functools.partial(iso_cov, 0.1)\n",
    "smoothcov = functools.partial(iso_cov, 20)\n",
    "volatile_field = simulate(form_cov_matrix(vector, volatilecov))\n",
    "smooth_field = simulate(form_cov_matrix(vector, smoothcov))"
   ]
  },
  {
   "cell_type": "code",
   "execution_count": null,
   "metadata": {},
   "outputs": [],
   "source": [
    "fig, ax = plt.subplots(1)\n",
    "ax.plot(volatile_field, label = 'volatile')\n",
    "ax.plot(smooth_field, label = 'smooth')\n",
    "ax.legend()\n",
    "sns.despine()"
   ]
  },
  {
   "cell_type": "markdown",
   "metadata": {},
   "source": [
    "### Now test 2D case"
   ]
  },
  {
   "cell_type": "code",
   "execution_count": null,
   "metadata": {},
   "outputs": [],
   "source": [
    "@timeit\n",
    "def twod_grid(n, size=1):\n",
    "    \"\"\"given a size, generate a list of pairs of coordinates\n",
    "    corresponding with grid points on a sizexsize grid\"\"\"\n",
    "    xs = ys = np.arange(start=0,stop=int(n*size), step=size)\n",
    "    return list(itertools.product(xs, ys))\n",
    "def plot(original,twod):\n",
    "    df = pd.DataFrame(original, columns=['row','col'])\n",
    "    df['values'] = twod\n",
    "    mat = df.pivot('row','col', 'values')\n",
    "    ax = sns.heatmap(mat)\n",
    "    return ax\n",
    "square = twod_grid(50)\n",
    "volatile_2d = simulate(form_cov_matrix(square, volatilecov))\n",
    "smooth_2d = simulate(form_cov_matrix(square, smoothcov))\n",
    "\n",
    "    "
   ]
  },
  {
   "cell_type": "code",
   "execution_count": null,
   "metadata": {},
   "outputs": [],
   "source": [
    "ax1 = plot(square, smooth_2d)"
   ]
  },
  {
   "cell_type": "code",
   "execution_count": null,
   "metadata": {},
   "outputs": [],
   "source": [
    "ax2 = plot(square, volatile_2d)"
   ]
  },
  {
   "cell_type": "markdown",
   "metadata": {},
   "source": [
    "### Simple 2D anisotropy"
   ]
  },
  {
   "cell_type": "code",
   "execution_count": null,
   "metadata": {},
   "outputs": [],
   "source": [
    "scov = functools.partial(aniso2d_cov, 0.1, 50)\n",
    "vcov = functools.partial(aniso2d_cov, 5, 50)\n",
    "volatile_aniso2d = simulate(form_cov_matrix(square, scov))\n",
    "smooth_aniso2d = simulate(form_cov_matrix(square, vcov))"
   ]
  },
  {
   "cell_type": "code",
   "execution_count": null,
   "metadata": {},
   "outputs": [],
   "source": [
    "plot(square, smooth_aniso2d)"
   ]
  },
  {
   "cell_type": "code",
   "execution_count": null,
   "metadata": {},
   "outputs": [],
   "source": [
    "plot(square, volatile_aniso2d)"
   ]
  },
  {
   "cell_type": "code",
   "execution_count": null,
   "metadata": {
    "collapsed": true
   },
   "outputs": [],
   "source": [
    "def fftIndgen(n):\n",
    "    a = list(range(0, int(n/2+1)))\n",
    "    b = list(reversed(range(1, int(n/2))))\n",
    "    b = [-i for i in b]\n",
    "    return a + b\n",
    "def power_spectrum(alpha,k):\n",
    "    fourier = lambda k: 2*alpha/(alpha**2+(k**2))\n",
    "    if k == 0:\n",
    "        return 0\n",
    "    return fourier(k)\n",
    "def power_spectrum2d(alpha, kx,ky):\n",
    "    scale = 50\n",
    "    fourier = lambda k: 2*alpha/(alpha**2+(k**2))\n",
    "    if kx == 0 and ky==0:\n",
    "        return 0\n",
    "    k = np.sqrt(kx**2+ky**2)\n",
    "    return fourier(np.sqrt(kx**2+scale*ky**2))\n",
    "def gaussian_proc(psd_fun, size=1024):\n",
    "    noise = np.fft.fft(np.random.normal(size = size))\n",
    "    amplitude = np.zeros(size)\n",
    "    for i,kx in enumerate(fftIndgen(size)):\n",
    "        amplitude[i] = psd_fun(kx)\n",
    "    return np.fft.ifft(noise*amplitude)\n",
    "def gaussian_random_field(Pk = lambda k : k**-10.0, size = 30):\n",
    "    def Pk3(kx, ky,kz):\n",
    "        if kx == 0 and ky == 0 and kz==0:\n",
    "            return 0.0\n",
    "        return np.sqrt(Pk(np.sqrt(kx**2 + ky**2+ (5*kz)**2)))\n",
    "    noise = np.fft.fftn(np.random.normal(size = (size, size,365*24)))\n",
    "    amplitude = np.zeros((size,size, 365*24))\n",
    "    for i, kx in enumerate(fftIndgen(size)):\n",
    "        for j, ky in enumerate(fftIndgen(size)):\n",
    "            for z, kz in enumerate(fftIndgen(365*24)):\n",
    "                amplitude[i, j,z] = Pk3(kx, ky, kz)\n",
    "    return np.fft.ifftn(noise * amplitude)\n",
    "def gaussian_field_alt(psd_fun, size=100):\n",
    "    noise = np.fft.fft2(np.random.normal(size = (size, size)))\n",
    "    amplitude = np.zeros((size,size))\n",
    "    for i, kx in enumerate(fftIndgen(size)):\n",
    "        for j, ky in enumerate(fftIndgen(size)):            \n",
    "            amplitude[i, j] = psd_fun(kx, ky)\n",
    "    return np.fft.ifft2(noise * amplitude)"
   ]
  },
  {
   "cell_type": "code",
   "execution_count": null,
   "metadata": {},
   "outputs": [],
   "source": [
    "volatile_res = gaussian_proc(functools.partial(power_spectrum, 30))\n",
    "smooth_res = gaussian_proc(functools.partial(power_spectrum, 3))\n",
    "fig,ax = plt.subplots(1)\n",
    "ax.plot(smooth_res.real, label = 'smooth')\n",
    "ax.plot(volatile_res.real, label= 'volatile')\n",
    "ax.legend()\n",
    "sns.despine()"
   ]
  },
  {
   "cell_type": "code",
   "execution_count": null,
   "metadata": {},
   "outputs": [],
   "source": [
    "res = gaussian_random_field()\n",
    "sns.heatmap(res.real[:,:,15])"
   ]
  },
  {
   "cell_type": "code",
   "execution_count": null,
   "metadata": {
    "collapsed": true
   },
   "outputs": [],
   "source": [
    "noise = np.fft.fftn(np.random.normal(size = (50, 50,365*24)))\n",
    "a = np.fft.ifftn(noise)"
   ]
  },
  {
   "cell_type": "code",
   "execution_count": null,
   "metadata": {},
   "outputs": [],
   "source": [
    "sns.heatmap(res.real[:,:,11]-res.real[:,:,12])"
   ]
  },
  {
   "cell_type": "code",
   "execution_count": null,
   "metadata": {},
   "outputs": [],
   "source": [
    "somenoise = "
   ]
  },
  {
   "cell_type": "code",
   "execution_count": null,
   "metadata": {},
   "outputs": [],
   "source": [
    "invpsd = np.fft.ifft(psd)\n",
    "fig, ax = plt.subplots(1)\n",
    "ax.plot([i for i in invpsd])\n",
    "sns.despine()"
   ]
  },
  {
   "cell_type": "code",
   "execution_count": null,
   "metadata": {},
   "outputs": [],
   "source": [
    "expcorr = [smoothcov(i,0) for i in range(200)]\n",
    "psd = np.fft.fft(expcorr)\n",
    "fig, ax = plt.subplots(1)\n",
    "ax.plot([i for i in expcorr])\n",
    "sns.despine()"
   ]
  },
  {
   "cell_type": "code",
   "execution_count": null,
   "metadata": {},
   "outputs": [],
   "source": [
    "fig, ax = plt.subplots(1)\n",
    "ax.plot([i for i in psd.real])\n",
    "sns.despine()"
   ]
  },
  {
   "cell_type": "code",
   "execution_count": null,
   "metadata": {},
   "outputs": [],
   "source": [
    "fig,ax = plt.subplots(1)\n",
    "ts = np.linspace(-10, 10, 2001)\n",
    "dt = ts[1] - ts[0]\n",
    "normalization = 1 / dt\n",
    "ks = 2 * np.pi * np.fft.fftshift(np.fft.fftfreq(ts.shape[0], d=dt))\n",
    "alpha = 3\n",
    "signal = lambda t: np.exp(-alpha*np.abs(t))\n",
    "fourier = lambda k: 2*alpha/(alpha**2+(k**2))\n",
    "#ax.plot(ac)\n",
    "numerical = np.fft.fftshift(np.fft.fft([signal(t) for t in ts]))\n",
    "analytical = np.array([fourier(k) for k in ks])\n",
    "#ax.plot(np.fft.ifft(numerical))\n",
    "#ax.plot(np.fft.ifft(analytical))\n",
    "#ax.plot(numerical)\n",
    "ax.plot(ks,np.absolute(numerical), label = 'num')\n",
    "ax.plot(ks, normalization*np.absolute(analytical), label='analyt')\n",
    "ax.set_xlim([-15,15])\n",
    "sns.despine()\n",
    "ax.legend()\n"
   ]
  },
  {
   "cell_type": "code",
   "execution_count": null,
   "metadata": {},
   "outputs": [],
   "source": [
    "fig,ax = plt.subplots(1)\n",
    "ax.plot([fourier(i) for i in range(50)], label = 'analytical')\n",
    "numerical = np.fft.fft(ac)\n",
    "ax.plot(numerical, label='numerical')\n",
    "ax.legend()\n",
    "sns.despine()"
   ]
  },
  {
   "cell_type": "code",
   "execution_count": null,
   "metadata": {
    "collapsed": true
   },
   "outputs": [],
   "source": []
  },
  {
   "cell_type": "code",
   "execution_count": null,
   "metadata": {},
   "outputs": [],
   "source": [
    "24*365*10*10"
   ]
  },
  {
   "cell_type": "code",
   "execution_count": null,
   "metadata": {
    "collapsed": true
   },
   "outputs": [],
   "source": []
  }
 ],
 "metadata": {
  "kernelspec": {
   "display_name": "continuous",
   "language": "python",
   "name": "continuous"
  },
  "language_info": {
   "codemirror_mode": {
    "name": "ipython",
    "version": 3
   },
   "file_extension": ".py",
   "mimetype": "text/x-python",
   "name": "python",
   "nbconvert_exporter": "python",
   "pygments_lexer": "ipython3",
   "version": "3.4.3"
  }
 },
 "nbformat": 4,
 "nbformat_minor": 2
}
