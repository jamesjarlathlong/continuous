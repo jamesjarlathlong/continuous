{
 "cells": [
  {
   "cell_type": "code",
   "execution_count": 5,
   "metadata": {},
   "outputs": [],
   "source": [
    "import functools\n",
    "import scipy as sp\n",
    "import numpy as np\n",
    "import seaborn\n",
    "import matplotlib.pyplot as plt\n",
    "import seaborn as sns\n",
    "import itertools\n",
    "import pandas as pd\n",
    "import time\n",
    "import random_graph\n",
    "import solar_sensor_env\n",
    "% matplotlib inline\n",
    "def timeit(method):\n",
    "    def timed(*args, **kw):\n",
    "        ts = time.time()\n",
    "        result = method(*args, **kw)\n",
    "        te = time.time()\n",
    "        print('%r  %2.2f ms' % \\\n",
    "                  (method.__name__, (te - ts) * 1000))\n",
    "        return result\n",
    "    return timed\n",
    "import math\n",
    "from matplotlib import rc\n",
    "rc('text', usetex=True)\n",
    "sns.set(font='serif', style='white')"
   ]
  },
  {
   "cell_type": "code",
   "execution_count": 6,
   "metadata": {},
   "outputs": [],
   "source": [
    "def euclidean(p1,p2):\n",
    "    diff = np.subtract(p1,p2)\n",
    "    dist = np.linalg.norm(diff)\n",
    "    return dist\n",
    "def iso_cov(phi, p1, p2):\n",
    "    \"\"\"a function that returns the correlation\n",
    "    between two oned points\"\"\"\n",
    "    sigma = 0.1\n",
    "    dist = euclidean(p1,p2)\n",
    "    return sigma**2 * np.exp(-dist/phi)\n",
    "def aniso2d_cov(phi,factor, p1, p2):\n",
    "    sigma = 1\n",
    "    dist0 = euclidean(p1[0],p2[0])\n",
    "    dist1 = euclidean(p1[1],p2[1])\n",
    "    phi2 = phi*factor\n",
    "    expon = math.sqrt((dist0/phi)**2 + (dist1/phi2)**2)\n",
    "    return sigma**2 * np.exp(-expon)\n",
    "@timeit\n",
    "def form_cov_matrix(list_of_points, covfun):\n",
    "    \"\"\"given a list of points \"\"\"\n",
    "    npoints = len(list_of_points)\n",
    "    mat = np.zeros((npoints, npoints))\n",
    "    allcombs = itertools.product(enumerate(list_of_points), enumerate(list_of_points))\n",
    "    for (i, elementi), (j,elementj) in allcombs:\n",
    "            mat[i,j] = covfun(elementi, elementj)\n",
    "    return mat  \n",
    "@timeit\n",
    "def simulate(covmatrix):\n",
    "    \"\"\"given a covariance matrix perform the\n",
    "    cholesky decomposition to find lower triangular L\n",
    "    such that L*L^H = covmatrix, then multiply L by a \n",
    "    vector of zero mean unit variance random normal\n",
    "    numbers to return a realisation of the random process\"\"\"\n",
    "    n,n = np.shape(covmatrix)\n",
    "    print(n,n)\n",
    "    L = np.linalg.cholesky(covmatrix)#nxn triangular matrix\n",
    "    rands = np.random.normal(size = (n,1))\n",
    "    sim = np.dot(L , rands)\n",
    "    return sim\n",
    "def twod_grid(n, size=1):\n",
    "    \"\"\"given a size, generate a list of pairs of coordinates\n",
    "    corresponding with grid points on a sizexsize grid\"\"\"\n",
    "    xs = ys = np.arange(start=0,stop=int(n*size), step=size)\n",
    "    return list(itertools.product(xs, ys))\n",
    "def to_mat(original,twod):\n",
    "    df  = pd.DataFrame(original, columns=['x2','x1'])\n",
    "    df['values'] = twod\n",
    "    mat = df.pivot('x2','x1', 'values')\n",
    "    return mat\n",
    "def plot(original,twod, ax):\n",
    "    mat = to_mat(original, twod)\n",
    "    ax = sns.heatmap(mat,ax=ax,cbar_kws = dict(use_gridspec=False,location=\"top\"))\n",
    "    return ax\n",
    "def perturb(timeseries, factors):\n",
    "    res = []\n",
    "    for f in factors:\n",
    "        #print('FACTOR: ', f[0])\n",
    "        fullfactor = np.array([f for _ in timeseries])\n",
    "        fullfactor+=1\n",
    "        res.append(list(solar_sensor_env.add_noise(np.multiply(timeseries, fullfactor).real)))\n",
    "    return res"
   ]
  },
  {
   "cell_type": "markdown",
   "metadata": {},
   "source": [
    "### Paper figure"
   ]
  },
  {
   "cell_type": "code",
   "execution_count": null,
   "metadata": {},
   "outputs": [],
   "source": [
    "# first generat random coordinates\n",
    "sensor_coords = random_graph.generate_sorted_network_coords(16)\n",
    "square = twod_grid(32)\n",
    "smoothcov = functools.partial(iso_cov, 64)\n",
    "perturbation = simulate(form_cov_matrix(square, smoothcov))"
   ]
  },
  {
   "cell_type": "code",
   "execution_count": null,
   "metadata": {},
   "outputs": [],
   "source": [
    "threedperturbation = random_fields.gpu_gaussian_random_field(size=33,scale=2, length=1)\n",
    "factors = get_sensor_perturbations(sensors, threedperturbation)"
   ]
  },
  {
   "cell_type": "code",
   "execution_count": 1,
   "metadata": {},
   "outputs": [
    {
     "ename": "NameError",
     "evalue": "name 'rc' is not defined",
     "output_type": "error",
     "traceback": [
      "\u001b[0;31m---------------------------------------------------------------------------\u001b[0m",
      "\u001b[0;31mNameError\u001b[0m                                 Traceback (most recent call last)",
      "\u001b[0;32m<ipython-input-1-321ba33ad8f3>\u001b[0m in \u001b[0;36m<module>\u001b[0;34m()\u001b[0m\n\u001b[0;32m----> 1\u001b[0;31m \u001b[0mrc\u001b[0m\u001b[0;34m(\u001b[0m\u001b[0;34m'text'\u001b[0m\u001b[0;34m,\u001b[0m \u001b[0musetex\u001b[0m\u001b[0;34m=\u001b[0m\u001b[0;32mTrue\u001b[0m\u001b[0;34m)\u001b[0m\u001b[0;34m\u001b[0m\u001b[0m\n\u001b[0m\u001b[1;32m      2\u001b[0m \u001b[0mfig\u001b[0m\u001b[0;34m,\u001b[0m \u001b[0;34m(\u001b[0m\u001b[0max1\u001b[0m\u001b[0;34m,\u001b[0m \u001b[0max2\u001b[0m\u001b[0;34m)\u001b[0m \u001b[0;34m=\u001b[0m \u001b[0mplt\u001b[0m\u001b[0;34m.\u001b[0m\u001b[0msubplots\u001b[0m\u001b[0;34m(\u001b[0m\u001b[0;36m2\u001b[0m\u001b[0;34m,\u001b[0m \u001b[0;36m1\u001b[0m\u001b[0;34m)\u001b[0m\u001b[0;34m\u001b[0m\u001b[0m\n\u001b[1;32m      3\u001b[0m \u001b[0mfig\u001b[0m\u001b[0;34m.\u001b[0m\u001b[0mset_size_inches\u001b[0m\u001b[0;34m(\u001b[0m\u001b[0;36m4\u001b[0m\u001b[0;34m,\u001b[0m\u001b[0;36m7\u001b[0m\u001b[0;34m)\u001b[0m\u001b[0;34m\u001b[0m\u001b[0m\n\u001b[1;32m      4\u001b[0m \u001b[0mfig\u001b[0m\u001b[0;34m.\u001b[0m\u001b[0msubplots_adjust\u001b[0m\u001b[0;34m(\u001b[0m\u001b[0mhspace\u001b[0m\u001b[0;34m=\u001b[0m\u001b[0;36m0.1\u001b[0m\u001b[0;34m)\u001b[0m\u001b[0;34m\u001b[0m\u001b[0m\n\u001b[1;32m      5\u001b[0m \u001b[0;32mdef\u001b[0m \u001b[0madd_heatmap\u001b[0m\u001b[0;34m(\u001b[0m\u001b[0mfig\u001b[0m\u001b[0;34m,\u001b[0m\u001b[0max1\u001b[0m\u001b[0;34m)\u001b[0m\u001b[0;34m:\u001b[0m\u001b[0;34m\u001b[0m\u001b[0m\n",
      "\u001b[0;31mNameError\u001b[0m: name 'rc' is not defined"
     ]
    }
   ],
   "source": [
    "rc('text', usetex=True)\n",
    "fig, (ax1, ax2) = plt.subplots(2, 1)\n",
    "fig.set_size_inches(4,7)\n",
    "fig.subplots_adjust(hspace=0.1)\n",
    "def add_heatmap(fig,ax1):\n",
    "    ax1 = plot(square,perturbation,ax=ax1)\n",
    "    for x,y in sensor_coords:\n",
    "        ax1.scatter([x],[y], facecolor='None', edgecolor='#ffffff', linewidth=1, s=20)\n",
    "    ax1.set_xticklabels([])\n",
    "    ax1.set_xticks([])\n",
    "    ax1.set_yticklabels([])\n",
    "    ax1.set_yticks([])\n",
    "    ax1.set_xlabel(r\"$x_1$\")\n",
    "    ax1.set_ylabel(r\"$x_2$\")\n",
    "    #fig.tight_layout(False)\n",
    "    ax1.collections[0].colorbar.set_label(r\"$\\mathbf{Y}$\", rotation=0)\n",
    "    return fig,ax1\n",
    "def add_both(fig,ax1,ax2):\n",
    "    fig,ax1 = add_heatmap(fig,ax1)\n",
    "    fig,ax1,ax2 = add_ts(fig,ax1,ax2)\n",
    "    #sns.despine()\n",
    "    #fig.tight_layout()\n",
    "    return fig,ax1,ax2\n",
    "fig, ax1,ax2 = add_both(fig,ax1,ax2)\n",
    "fig.savefig('combined.png',dpi=600,bbox_inches = \"tight\")\n",
    "#sns.despine()"
   ]
  },
  {
   "cell_type": "code",
   "execution_count": 47,
   "metadata": {},
   "outputs": [
    {
     "name": "stderr",
     "output_type": "stream",
     "text": [
      "/home/jjlong/continuous/venv/lib/python3.5/site-packages/ipykernel_launcher.py:2: FutureWarning: Method .as_matrix will be removed in a future version. Use .values instead.\n",
      "  \n"
     ]
    },
    {
     "name": "stdout",
     "output_type": "stream",
     "text": [
      "DatetimeIndex(['2012-09-01 00:00:00', '2012-09-01 00:30:00',\n",
      "               '2012-09-01 01:00:00', '2012-09-01 01:30:00',\n",
      "               '2012-09-01 02:00:00', '2012-09-01 02:30:00',\n",
      "               '2012-09-01 03:00:00', '2012-09-01 03:30:00',\n",
      "               '2012-09-01 04:00:00', '2012-09-01 04:30:00',\n",
      "               ...\n",
      "               '2012-09-30 19:00:00', '2012-09-30 19:30:00',\n",
      "               '2012-09-30 20:00:00', '2012-09-30 20:30:00',\n",
      "               '2012-09-30 21:00:00', '2012-09-30 21:30:00',\n",
      "               '2012-09-30 22:00:00', '2012-09-30 22:30:00',\n",
      "               '2012-09-30 23:00:00', '2012-09-30 23:30:00'],\n",
      "              dtype='datetime64[ns]', length=1440, freq='30T')\n"
     ]
    }
   ],
   "source": [
    "realisation_df = to_mat(square,perturbation)\n",
    "realisation_np = realisation_df.as_matrix()\n",
    "sensor_realisation = [realisation_np[round(i[0]),round(i[1])] for i in sensor_coords]\n",
    "solarfname = 'training_12'\n",
    "def get_month(solarrecord, startmonth):\n",
    "    startidx = startmonth*30*48\n",
    "    finishidx = (startmonth+1)*30*48\n",
    "    return solarrecord[startidx:finishidx]\n",
    "solarrecord = solar_sensor_env.get_generated_power(solarfname)\n",
    "res = perturb(get_month(solarrecord,8), sensor_realisation)\n",
    "daterange = pd.date_range(start='9/1/2012', periods=30*48, freq='30min')"
   ]
  },
  {
   "cell_type": "code",
   "execution_count": 287,
   "metadata": {},
   "outputs": [],
   "source": [
    "def add_ts(fig, ax1,ax2):\n",
    "    duration = 3\n",
    "    start = 7\n",
    "    idx_start = start*48\n",
    "    idx_finish = (start+duration)*48\n",
    "    colnames =[str(i) for i in range(16)]\n",
    "    df = pd.DataFrame(np.asarray(res).T, columns=colnames, index=daterange)\n",
    "    #df.iloc[1439]\n",
    "    df_slice = df.iloc[idx_start:idx_finish]\n",
    "    ax2 = df_slice.plot(y=colnames,rot=60, linewidth=1, color='#737373',ax=ax2)\n",
    "    sns.set(font='serif', style='ticks')\n",
    "    ax2.set_ylabel('Power (W)')\n",
    "    ax2.get_legend().remove()\n",
    "    positions = [p for p in df_slice.index\n",
    "             if p.hour in [0,12] and p.minute in [0]]\n",
    "    labels = [l.strftime('%m-%d %H:00') for l in positions]\n",
    "    ax2.set_xticks([], minor=True)\n",
    "    ax2.set_xticklabels([], minor=True)\n",
    "    ax2.set_xticklabels([], minor=False)\n",
    "    ax2.set_xticks(positions)\n",
    "    ax2.set_xticklabels(labels)\n",
    "    ax2.set_xlabel('Date')\n",
    "    ax2.spines['right'].set_visible(False)\n",
    "    ax2.spines['top'].set_visible(False)\n",
    "    #sns.despine()\n",
    "    return fig,ax1,ax2"
   ]
  },
  {
   "cell_type": "markdown",
   "metadata": {},
   "source": [
    "### Test 1D case"
   ]
  },
  {
   "cell_type": "code",
   "execution_count": null,
   "metadata": {},
   "outputs": [],
   "source": [
    "vector = range(50)\n",
    "volatilecov = functools.partial(iso_cov, 0.1)\n",
    "smoothcov = functools.partial(iso_cov, 20)\n",
    "volatile_field = simulate(form_cov_matrix(vector, volatilecov))\n",
    "smooth_field = simulate(form_cov_matrix(vector, smoothcov))"
   ]
  },
  {
   "cell_type": "code",
   "execution_count": null,
   "metadata": {},
   "outputs": [],
   "source": [
    "fig, ax = plt.subplots(1)\n",
    "ax.plot(volatile_field, label = 'volatile')\n",
    "ax.plot(smooth_field, label = 'smooth')\n",
    "ax.legend()\n",
    "sns.despine()"
   ]
  },
  {
   "cell_type": "markdown",
   "metadata": {},
   "source": [
    "### Now test 2D case"
   ]
  },
  {
   "cell_type": "code",
   "execution_count": null,
   "metadata": {},
   "outputs": [],
   "source": [
    "square = twod_grid(32)\n",
    "smoothcov = functools.partial(iso_cov, 16)\n",
    "#volatile_2d = simulate(form_cov_matrix(square, volatilecov))\n",
    "smooth_2d = simulate(form_cov_matrix(square, smoothcov))\n",
    "\n",
    "    "
   ]
  },
  {
   "cell_type": "code",
   "execution_count": null,
   "metadata": {},
   "outputs": [],
   "source": [
    "ax1 = plot(square, smooth_2d)"
   ]
  },
  {
   "cell_type": "code",
   "execution_count": null,
   "metadata": {},
   "outputs": [],
   "source": [
    "ax2 = plot(square, volatile_2d)"
   ]
  },
  {
   "cell_type": "markdown",
   "metadata": {},
   "source": [
    "### Simple 2D anisotropy"
   ]
  },
  {
   "cell_type": "code",
   "execution_count": null,
   "metadata": {},
   "outputs": [],
   "source": [
    "scov = functools.partial(aniso2d_cov, 0.1, 50)\n",
    "vcov = functools.partial(aniso2d_cov, 5, 50)\n",
    "volatile_aniso2d = simulate(form_cov_matrix(square, scov))\n",
    "smooth_aniso2d = simulate(form_cov_matrix(square, vcov))"
   ]
  },
  {
   "cell_type": "code",
   "execution_count": null,
   "metadata": {},
   "outputs": [],
   "source": [
    "plot(square, smooth_aniso2d)"
   ]
  },
  {
   "cell_type": "code",
   "execution_count": null,
   "metadata": {},
   "outputs": [],
   "source": [
    "plot(square, volatile_aniso2d)"
   ]
  },
  {
   "cell_type": "code",
   "execution_count": null,
   "metadata": {},
   "outputs": [],
   "source": [
    "def fftIndgen(n):\n",
    "    a = list(range(0, int(n/2+1)))\n",
    "    b = list(reversed(range(1, int(n/2))))\n",
    "    b = [-i for i in b]\n",
    "    return a + b\n",
    "def power_spectrum(alpha,k):\n",
    "    fourier = lambda k: 2*alpha/(alpha**2+(k**2))\n",
    "    if k == 0:\n",
    "        return 0\n",
    "    return fourier(k)\n",
    "def power_spectrum2d(alpha, kx,ky):\n",
    "    scale = 50\n",
    "    fourier = lambda k: 2*alpha/(alpha**2+(k**2))\n",
    "    if kx == 0 and ky==0:\n",
    "        return 0\n",
    "    k = np.sqrt(kx**2+ky**2)\n",
    "    return fourier(np.sqrt(kx**2+scale*ky**2))\n",
    "def gaussian_proc(psd_fun, size=1024):\n",
    "    noise = np.fft.fft(np.random.normal(size = size))\n",
    "    amplitude = np.zeros(size)\n",
    "    for i,kx in enumerate(fftIndgen(size)):\n",
    "        amplitude[i] = psd_fun(kx)\n",
    "    return np.fft.ifft(noise*amplitude)\n",
    "def gaussian_random_field(Pk = lambda k : k**-10.0, size = 30):\n",
    "    def Pk3(kx, ky,kz):\n",
    "        if kx == 0 and ky == 0 and kz==0:\n",
    "            return 0.0\n",
    "        return np.sqrt(Pk(np.sqrt(kx**2 + ky**2+ (5*kz)**2)))\n",
    "    noise = np.fft.fftn(np.random.normal(size = (size, size,365*24)))\n",
    "    amplitude = np.zeros((size,size, 365*24))\n",
    "    for i, kx in enumerate(fftIndgen(size)):\n",
    "        for j, ky in enumerate(fftIndgen(size)):\n",
    "            for z, kz in enumerate(fftIndgen(365*24)):\n",
    "                amplitude[i, j,z] = Pk3(kx, ky, kz)\n",
    "    return np.fft.ifftn(noise * amplitude)\n",
    "def gaussian_field_alt(psd_fun, size=100):\n",
    "    noise = np.fft.fft2(np.random.normal(size = (size, size)))\n",
    "    amplitude = np.zeros((size,size))\n",
    "    for i, kx in enumerate(fftIndgen(size)):\n",
    "        for j, ky in enumerate(fftIndgen(size)):            \n",
    "            amplitude[i, j] = psd_fun(kx, ky)\n",
    "    return np.fft.ifft2(noise * amplitude)"
   ]
  },
  {
   "cell_type": "code",
   "execution_count": null,
   "metadata": {},
   "outputs": [],
   "source": [
    "volatile_res = gaussian_proc(functools.partial(power_spectrum, 30))\n",
    "smooth_res = gaussian_proc(functools.partial(power_spectrum, 3))\n",
    "fig,ax = plt.subplots(1)\n",
    "ax.plot(smooth_res.real, label = 'smooth')\n",
    "ax.plot(volatile_res.real, label= 'volatile')\n",
    "ax.legend()\n",
    "sns.despine()"
   ]
  },
  {
   "cell_type": "code",
   "execution_count": null,
   "metadata": {},
   "outputs": [],
   "source": [
    "res = gaussian_random_field()\n",
    "sns.heatmap(res.real[:,:,15])"
   ]
  },
  {
   "cell_type": "code",
   "execution_count": null,
   "metadata": {},
   "outputs": [],
   "source": [
    "noise = np.fft.fftn(np.random.normal(size = (50, 50,365*24)))\n",
    "a = np.fft.ifftn(noise)"
   ]
  },
  {
   "cell_type": "code",
   "execution_count": null,
   "metadata": {},
   "outputs": [],
   "source": [
    "sns.heatmap(res.real[:,:,11]-res.real[:,:,12])"
   ]
  },
  {
   "cell_type": "code",
   "execution_count": null,
   "metadata": {},
   "outputs": [],
   "source": [
    "somenoise = "
   ]
  },
  {
   "cell_type": "code",
   "execution_count": null,
   "metadata": {},
   "outputs": [],
   "source": [
    "invpsd = np.fft.ifft(psd)\n",
    "fig, ax = plt.subplots(1)\n",
    "ax.plot([i for i in invpsd])\n",
    "sns.despine()"
   ]
  },
  {
   "cell_type": "code",
   "execution_count": null,
   "metadata": {},
   "outputs": [],
   "source": [
    "expcorr = [smoothcov(i,0) for i in range(200)]\n",
    "psd = np.fft.fft(expcorr)\n",
    "fig, ax = plt.subplots(1)\n",
    "ax.plot([i for i in expcorr])\n",
    "sns.despine()"
   ]
  },
  {
   "cell_type": "code",
   "execution_count": null,
   "metadata": {},
   "outputs": [],
   "source": [
    "fig, ax = plt.subplots(1)\n",
    "ax.plot([i for i in psd.real])\n",
    "sns.despine()"
   ]
  },
  {
   "cell_type": "code",
   "execution_count": null,
   "metadata": {},
   "outputs": [],
   "source": [
    "fig,ax = plt.subplots(1)\n",
    "ts = np.linspace(-10, 10, 2001)\n",
    "dt = ts[1] - ts[0]\n",
    "normalization = 1 / dt\n",
    "ks = 2 * np.pi * np.fft.fftshift(np.fft.fftfreq(ts.shape[0], d=dt))\n",
    "alpha = 3\n",
    "signal = lambda t: np.exp(-alpha*np.abs(t))\n",
    "fourier = lambda k: 2*alpha/(alpha**2+(k**2))\n",
    "#ax.plot(ac)\n",
    "numerical = np.fft.fftshift(np.fft.fft([signal(t) for t in ts]))\n",
    "analytical = np.array([fourier(k) for k in ks])\n",
    "#ax.plot(np.fft.ifft(numerical))\n",
    "#ax.plot(np.fft.ifft(analytical))\n",
    "#ax.plot(numerical)\n",
    "ax.plot(ks,np.absolute(numerical), label = 'num')\n",
    "ax.plot(ks, normalization*np.absolute(analytical), label='analyt')\n",
    "ax.set_xlim([-15,15])\n",
    "sns.despine()\n",
    "ax.legend()\n"
   ]
  },
  {
   "cell_type": "code",
   "execution_count": null,
   "metadata": {},
   "outputs": [],
   "source": [
    "fig,ax = plt.subplots(1)\n",
    "ax.plot([fourier(i) for i in range(50)], label = 'analytical')\n",
    "numerical = np.fft.fft(ac)\n",
    "ax.plot(numerical, label='numerical')\n",
    "ax.legend()\n",
    "sns.despine()"
   ]
  },
  {
   "cell_type": "code",
   "execution_count": null,
   "metadata": {},
   "outputs": [],
   "source": []
  },
  {
   "cell_type": "code",
   "execution_count": null,
   "metadata": {},
   "outputs": [],
   "source": [
    "24*365*10*10"
   ]
  },
  {
   "cell_type": "code",
   "execution_count": null,
   "metadata": {},
   "outputs": [],
   "source": []
  }
 ],
 "metadata": {
  "kernelspec": {
   "display_name": "continuous",
   "language": "python",
   "name": "continuous"
  },
  "language_info": {
   "codemirror_mode": {
    "name": "ipython",
    "version": 3
   },
   "file_extension": ".py",
   "mimetype": "text/x-python",
   "name": "python",
   "nbconvert_exporter": "python",
   "pygments_lexer": "ipython3",
   "version": "3.5.2"
  }
 },
 "nbformat": 4,
 "nbformat_minor": 2
}
