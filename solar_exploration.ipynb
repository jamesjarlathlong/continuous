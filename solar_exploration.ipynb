{
 "cells": [
  {
   "cell_type": "code",
   "execution_count": 3,
   "metadata": {},
   "outputs": [],
   "source": [
    "from solar_getter import get_solar, convert_to_energy\n",
    "import pandas as pd\n",
    "import matplotlib.pyplot as plt\n",
    "import seaborn as sns\n",
    "import os\n",
    "import json\n",
    "%matplotlib inline"
   ]
  },
  {
   "cell_type": "code",
   "execution_count": 18,
   "metadata": {},
   "outputs": [],
   "source": [
    "api_key = os.environ.get('NREL')\n",
    "lat, lon= 42.3583452, -71.0937524\n",
    "lat2, lon2= 42.3783452, -71.0937524\n",
    "attributes = 'ghi,dhi,dni,wind_speed_10m_nwp,surface_air_temperature_nwp,solar_zenith_angle'\n",
    "year = '2011'\n",
    "leap_year = 'false'\n",
    "interval = '30'\n",
    "# NOTE: In order to use the NSRDB data in SAM, you must specify UTC as 'false'. SAM requires the data to be in the local time zone.\n",
    "utc = 'false'\n",
    "# Your full name, use '+' instead of spaces.\n",
    "your_name = 'James+Long'\n",
    "# Your email address\n",
    "your_email = 'jjlong@mit.edu'\n",
    "# Please join our mailing list so we can keep you up-to-date on new developments.\n",
    "# Your affiliation\n",
    "your_affiliation = 'mit'"
   ]
  },
  {
   "cell_type": "code",
   "execution_count": 19,
   "metadata": {},
   "outputs": [
    {
     "name": "stdout",
     "output_type": "stream",
     "text": [
      "metadata:  {'Clearsky GHI Units': 'w/m2', 'Precipitable Water Units': 'mm', 'Cloud Type 9': 'Overshooting', 'Dew Point Units': 'c', 'Fill Flag 3': 'Exceeds Clearsky', 'Pressure Units': 'mbar', 'State': '-', 'Cloud Type 8': 'Overlapping', 'Solar Zenith Angle Units': 'Degree', 'Clearsky DHI Units': 'w/m2', 'Elevation': 18, 'Cloud Type 4': 'Super-Cooled Water', 'Source': 'NSRDB', 'DHI Units': 'w/m2', 'Cloud Type -1': nan, 'Local Time Zone': -5, 'Wind Speed': 'm/s', 'Cloud Type 10': 'Unknown', 'Fill Flag 1': 'Missing Image', 'Latitude': 42.37, 'Cloud Type 5': 'Mixed', 'GHI Units': 'w/m2', 'Cloud Type 1': 'Probably Clear', 'Version': 'v2.0.1', 'Cloud Type 3': 'Water', 'Fill Flag 2': 'Low Irradiance', 'Cloud Type 6': 'Opaque Ice', 'DNI Units': 'w/m2', 'Temperature Units': 'c', 'Snow Depth Units': 'm', 'Cloud Type 7': 'Cirrus', 'Country': '-', 'Fill Flag 0': nan, 'Clearsky DNI Units': 'w/m2', 'Cloud Type 0': 'Clear', 'Relative Humidity Units': '%', 'Longitude': -71.1, 'Time Zone': -5, 'Cloud Type 11': 'Dust', 'Location ID': 1325726, 'Fill Flag 5': 'Rayleigh Violation', 'Cloud Type 12': 'Smoke', 'Fill Flag 4': 'Missing CLoud Properties', 'Cloud Type 2': 'Fog', 'Wind Direction Units': 'Degrees', 'City': '-'}\n",
      "metadata:  {'Clearsky GHI Units': 'w/m2', 'Precipitable Water Units': 'mm', 'Cloud Type 9': 'Overshooting', 'Dew Point Units': 'c', 'Fill Flag 3': 'Exceeds Clearsky', 'Pressure Units': 'mbar', 'State': '-', 'Cloud Type 8': 'Overlapping', 'Solar Zenith Angle Units': 'Degree', 'Clearsky DHI Units': 'w/m2', 'Elevation': 18, 'Cloud Type 4': 'Super-Cooled Water', 'Source': 'NSRDB', 'DHI Units': 'w/m2', 'Cloud Type -1': nan, 'Local Time Zone': -5, 'Wind Speed': 'm/s', 'Cloud Type 10': 'Unknown', 'Fill Flag 1': 'Missing Image', 'Latitude': 42.37, 'Cloud Type 5': 'Mixed', 'GHI Units': 'w/m2', 'Cloud Type 1': 'Probably Clear', 'Version': 'v2.0.1', 'Cloud Type 3': 'Water', 'Fill Flag 2': 'Low Irradiance', 'Cloud Type 6': 'Opaque Ice', 'DNI Units': 'w/m2', 'Temperature Units': 'c', 'Snow Depth Units': 'm', 'Cloud Type 7': 'Cirrus', 'Country': '-', 'Fill Flag 0': nan, 'Clearsky DNI Units': 'w/m2', 'Cloud Type 0': 'Clear', 'Relative Humidity Units': '%', 'Longitude': -71.1, 'Time Zone': -5, 'Cloud Type 11': 'Dust', 'Location ID': 1325726, 'Fill Flag 5': 'Rayleigh Violation', 'Cloud Type 12': 'Smoke', 'Fill Flag 4': 'Missing CLoud Properties', 'Cloud Type 2': 'Fog', 'Wind Direction Units': 'Degrees', 'City': '-'}\n"
     ]
    }
   ],
   "source": [
    "fname = 'killian_court'\n",
    "meta, df = solar_getter.get_solar(fname, year=year, lat=lat, lon=lon,\n",
    "                    leap_year=leap_year, interval=interval,\n",
    "                    utc=utc, your_name=your_name, your_email=your_email,\n",
    "                    your_affiliation=your_affiliation,\n",
    "                    api_key=api_key, attributes=attributes)\n",
    "meta2, df2 = get_solar(fname, year=year, lat=lat2, lon=lon2,\n",
    "                    leap_year=leap_year, interval=interval,\n",
    "                    utc=utc, your_name=your_name, your_email=your_email,\n",
    "                    your_affiliation=your_affiliation,\n",
    "                    api_key=api_key, attributes=attributes)"
   ]
  },
  {
   "cell_type": "code",
   "execution_count": 4,
   "metadata": {},
   "outputs": [],
   "source": [
    "dfpre = pd.read_csv('killian_court.csv')\n",
    "with open('killian_court.metadata.json') as f:\n",
    "    metapre = json.load(f)"
   ]
  },
  {
   "cell_type": "code",
   "execution_count": 20,
   "metadata": {},
   "outputs": [],
   "source": [
    "generated, dcnet,acnet = convert_to_energy(meta, df)\n",
    "gen2, dcnet2, acnet2 = convert_to_energy(meta2, df2)"
   ]
  },
  {
   "cell_type": "code",
   "execution_count": 21,
   "metadata": {},
   "outputs": [
    {
     "data": {
      "image/png": "[encoded data removed]",
      "text/plain": [
       "<Figure size 432x288 with 1 Axes>"
      ]
     },
     "metadata": {},
     "output_type": "display_data"
    }
   ],
   "source": [
    "fig, ax = plt.subplots(1)\n",
    "df['gen'] = generated #kW\n",
    "df['dc'] = dcnet\n",
    "df['ac'] = acnet\n",
    "df2['gen'] = gen2 #kW\n",
    "df2['dc'] = dcnet2\n",
    "df2['ac'] = acnet2\n",
    "day = 100\n",
    "ax.plot(df['GHI'].iloc[day*48:day*48+48], label='Glob. Horiz. Irrad.(W)', color='k')\n",
    "ax.plot(df2['GHI'].iloc[day*48:day*48+48], label='comp')\n",
    "#ax.plot(df['DHI'].iloc[day*48:+day*48+48], label='Glob. Horiz. Irrad.(W)', color='g')\n",
    "\n",
    "#ticks = [tick for tick in ax.get_xticks()]\n",
    "#ax.set_xticklabels( ticks, rotation=45 )\n",
    "#ax2 = ax.twinx()\n",
    "#fig, ax = plt.subplots(1)\n",
    "#ax.plot(df['gen'].iloc[0:48], label='Generated energy (kW)', color='k', marker= 'o')\n",
    "\n",
    "#ax2.plot(df['dc'].iloc[day*48:+day*48+48], label='DC array energy (W)', color='r')\n",
    "#ax2.plot(df['ac'].iloc[day*48:+day*48+48], label='AC inverter energy (W)', color='b')\n",
    "#ax.legend()\n",
    "#ax2.legend()\n",
    "fig.tight_layout()\n",
    "sns.despine(top=True, right=False)\n",
    "#sns.despine()\n"
   ]
  },
  {
   "cell_type": "code",
   "execution_count": 12,
   "metadata": {},
   "outputs": [
    {
     "data": {
      "text/html": [
       "<div>\n",
       "<style scoped>\n",
       "    .dataframe tbody tr th:only-of-type {\n",
       "        vertical-align: middle;\n",
       "    }\n",
       "\n",
       "    .dataframe tbody tr th {\n",
       "        vertical-align: top;\n",
       "    }\n",
       "\n",
       "    .dataframe thead th {\n",
       "        text-align: right;\n",
       "    }\n",
       "</style>\n",
       "<table border=\"1\" class=\"dataframe\">\n",
       "  <thead>\n",
       "    <tr style=\"text-align: right;\">\n",
       "      <th></th>\n",
       "      <th>Year</th>\n",
       "      <th>Month</th>\n",
       "      <th>Day</th>\n",
       "      <th>Hour</th>\n",
       "      <th>Minute</th>\n",
       "      <th>GHI</th>\n",
       "      <th>DHI</th>\n",
       "      <th>DNI</th>\n",
       "      <th>Wind Speed</th>\n",
       "      <th>Temperature</th>\n",
       "      <th>Solar Zenith Angle</th>\n",
       "      <th>gen</th>\n",
       "      <th>dc</th>\n",
       "      <th>ac</th>\n",
       "    </tr>\n",
       "  </thead>\n",
       "  <tbody>\n",
       "    <tr>\n",
       "      <th>2011-01-01 00:00:00</th>\n",
       "      <td>2011</td>\n",
       "      <td>1</td>\n",
       "      <td>1</td>\n",
       "      <td>0</td>\n",
       "      <td>0</td>\n",
       "      <td>0</td>\n",
       "      <td>0</td>\n",
       "      <td>0</td>\n",
       "      <td>1.034736</td>\n",
       "      <td>-0.311407</td>\n",
       "      <td>160.490526</td>\n",
       "      <td>0.0</td>\n",
       "      <td>0.0</td>\n",
       "      <td>0.0</td>\n",
       "    </tr>\n",
       "    <tr>\n",
       "      <th>2011-01-01 00:30:00</th>\n",
       "      <td>2011</td>\n",
       "      <td>1</td>\n",
       "      <td>1</td>\n",
       "      <td>0</td>\n",
       "      <td>30</td>\n",
       "      <td>0</td>\n",
       "      <td>0</td>\n",
       "      <td>0</td>\n",
       "      <td>1.031998</td>\n",
       "      <td>-0.363226</td>\n",
       "      <td>158.750697</td>\n",
       "      <td>0.0</td>\n",
       "      <td>0.0</td>\n",
       "      <td>0.0</td>\n",
       "    </tr>\n",
       "    <tr>\n",
       "      <th>2011-01-01 01:00:00</th>\n",
       "      <td>2011</td>\n",
       "      <td>1</td>\n",
       "      <td>1</td>\n",
       "      <td>1</td>\n",
       "      <td>0</td>\n",
       "      <td>0</td>\n",
       "      <td>0</td>\n",
       "      <td>0</td>\n",
       "      <td>1.029260</td>\n",
       "      <td>-0.415045</td>\n",
       "      <td>155.506586</td>\n",
       "      <td>0.0</td>\n",
       "      <td>0.0</td>\n",
       "      <td>0.0</td>\n",
       "    </tr>\n",
       "    <tr>\n",
       "      <th>2011-01-01 01:30:00</th>\n",
       "      <td>2011</td>\n",
       "      <td>1</td>\n",
       "      <td>1</td>\n",
       "      <td>1</td>\n",
       "      <td>30</td>\n",
       "      <td>0</td>\n",
       "      <td>0</td>\n",
       "      <td>0</td>\n",
       "      <td>1.027027</td>\n",
       "      <td>-0.432654</td>\n",
       "      <td>151.276831</td>\n",
       "      <td>0.0</td>\n",
       "      <td>0.0</td>\n",
       "      <td>0.0</td>\n",
       "    </tr>\n",
       "    <tr>\n",
       "      <th>2011-01-01 02:00:00</th>\n",
       "      <td>2011</td>\n",
       "      <td>1</td>\n",
       "      <td>1</td>\n",
       "      <td>2</td>\n",
       "      <td>0</td>\n",
       "      <td>0</td>\n",
       "      <td>0</td>\n",
       "      <td>0</td>\n",
       "      <td>1.024794</td>\n",
       "      <td>-0.450293</td>\n",
       "      <td>146.450206</td>\n",
       "      <td>0.0</td>\n",
       "      <td>0.0</td>\n",
       "      <td>0.0</td>\n",
       "    </tr>\n",
       "  </tbody>\n",
       "</table>\n",
       "</div>"
      ],
      "text/plain": [
       "                     Year  Month  Day  Hour  Minute  GHI  DHI  DNI  \\\n",
       "2011-01-01 00:00:00  2011      1    1     0       0    0    0    0   \n",
       "2011-01-01 00:30:00  2011      1    1     0      30    0    0    0   \n",
       "2011-01-01 01:00:00  2011      1    1     1       0    0    0    0   \n",
       "2011-01-01 01:30:00  2011      1    1     1      30    0    0    0   \n",
       "2011-01-01 02:00:00  2011      1    1     2       0    0    0    0   \n",
       "\n",
       "                     Wind Speed  Temperature  Solar Zenith Angle  gen   dc  \\\n",
       "2011-01-01 00:00:00    1.034736    -0.311407          160.490526  0.0  0.0   \n",
       "2011-01-01 00:30:00    1.031998    -0.363226          158.750697  0.0  0.0   \n",
       "2011-01-01 01:00:00    1.029260    -0.415045          155.506586  0.0  0.0   \n",
       "2011-01-01 01:30:00    1.027027    -0.432654          151.276831  0.0  0.0   \n",
       "2011-01-01 02:00:00    1.024794    -0.450293          146.450206  0.0  0.0   \n",
       "\n",
       "                      ac  \n",
       "2011-01-01 00:00:00  0.0  \n",
       "2011-01-01 00:30:00  0.0  \n",
       "2011-01-01 01:00:00  0.0  \n",
       "2011-01-01 01:30:00  0.0  \n",
       "2011-01-01 02:00:00  0.0  "
      ]
     },
     "execution_count": 12,
     "metadata": {},
     "output_type": "execute_result"
    }
   ],
   "source": [
    "df2.head(5)"
   ]
  },
  {
   "cell_type": "code",
   "execution_count": 8,
   "metadata": {},
   "outputs": [
    {
     "data": {
      "text/plain": [
       "{'City': '-',\n",
       " 'Clearsky DHI Units': 'w/m2',\n",
       " 'Clearsky DNI Units': 'w/m2',\n",
       " 'Clearsky GHI Units': 'w/m2',\n",
       " 'Cloud Type -1': nan,\n",
       " 'Cloud Type 0': 'Clear',\n",
       " 'Cloud Type 1': 'Probably Clear',\n",
       " 'Cloud Type 10': 'Unknown',\n",
       " 'Cloud Type 11': 'Dust',\n",
       " 'Cloud Type 12': 'Smoke',\n",
       " 'Cloud Type 2': 'Fog',\n",
       " 'Cloud Type 3': 'Water',\n",
       " 'Cloud Type 4': 'Super-Cooled Water',\n",
       " 'Cloud Type 5': 'Mixed',\n",
       " 'Cloud Type 6': 'Opaque Ice',\n",
       " 'Cloud Type 7': 'Cirrus',\n",
       " 'Cloud Type 8': 'Overlapping',\n",
       " 'Cloud Type 9': 'Overshooting',\n",
       " 'Country': '-',\n",
       " 'DHI Units': 'w/m2',\n",
       " 'DNI Units': 'w/m2',\n",
       " 'Dew Point Units': 'c',\n",
       " 'Elevation': 18,\n",
       " 'Fill Flag 0': nan,\n",
       " 'Fill Flag 1': 'Missing Image',\n",
       " 'Fill Flag 2': 'Low Irradiance',\n",
       " 'Fill Flag 3': 'Exceeds Clearsky',\n",
       " 'Fill Flag 4': 'Missing CLoud Properties',\n",
       " 'Fill Flag 5': 'Rayleigh Violation',\n",
       " 'GHI Units': 'w/m2',\n",
       " 'Latitude': 42.37,\n",
       " 'Local Time Zone': -5,\n",
       " 'Location ID': 1325726,\n",
       " 'Longitude': -71.1,\n",
       " 'Precipitable Water Units': 'mm',\n",
       " 'Pressure Units': 'mbar',\n",
       " 'Relative Humidity Units': '%',\n",
       " 'Snow Depth Units': 'm',\n",
       " 'Solar Zenith Angle Units': 'Degree',\n",
       " 'Source': 'NSRDB',\n",
       " 'State': '-',\n",
       " 'Temperature Units': 'c',\n",
       " 'Time Zone': -5,\n",
       " 'Version': 'v2.0.1',\n",
       " 'Wind Direction Units': 'Degrees',\n",
       " 'Wind Speed': 'm/s'}"
      ]
     },
     "execution_count": 8,
     "metadata": {},
     "output_type": "execute_result"
    }
   ],
   "source": [
    "meta"
   ]
  },
  {
   "cell_type": "code",
   "execution_count": 4,
   "metadata": {},
   "outputs": [
    {
     "ename": "NameError",
     "evalue": "name 'generated' is not defined",
     "output_type": "error",
     "traceback": [
      "\u001b[0;31m---------------------------------------------------------------------------\u001b[0m",
      "\u001b[0;31mNameError\u001b[0m                                 Traceback (most recent call last)",
      "\u001b[0;32m<ipython-input-4-62c4e6b8bbba>\u001b[0m in \u001b[0;36m<module>\u001b[0;34m()\u001b[0m\n\u001b[1;32m      1\u001b[0m \u001b[0mfig\u001b[0m\u001b[0;34m,\u001b[0m \u001b[0max\u001b[0m \u001b[0;34m=\u001b[0m \u001b[0mplt\u001b[0m\u001b[0;34m.\u001b[0m\u001b[0msubplots\u001b[0m\u001b[0;34m(\u001b[0m\u001b[0;36m1\u001b[0m\u001b[0;34m)\u001b[0m\u001b[0;34m\u001b[0m\u001b[0m\n\u001b[0;32m----> 2\u001b[0;31m \u001b[0max\u001b[0m\u001b[0;34m.\u001b[0m\u001b[0mplot\u001b[0m\u001b[0;34m(\u001b[0m\u001b[0mgenerated\u001b[0m\u001b[0;34m[\u001b[0m\u001b[0;36m0\u001b[0m\u001b[0;34m:\u001b[0m\u001b[0;36m48\u001b[0m\u001b[0;34m]\u001b[0m\u001b[0;34m)\u001b[0m\u001b[0;34m\u001b[0m\u001b[0m\n\u001b[0m",
      "\u001b[0;31mNameError\u001b[0m: name 'generated' is not defined"
     ]
    },
    {
     "data": {
      "image/png": "[encoded data removed]",
      "text/plain": [
       "<Figure size 432x288 with 1 Axes>"
      ]
     },
     "metadata": {},
     "output_type": "display_data"
    }
   ],
   "source": [
    "fig, ax = plt.subplots(1)\n",
    "ax.plot(generated[0:48])"
   ]
  },
  {
   "cell_type": "code",
   "execution_count": null,
   "metadata": {},
   "outputs": [],
   "source": []
  }
 ],
 "metadata": {
  "kernelspec": {
   "display_name": "continuous",
   "language": "python",
   "name": "continuous"
  },
  "language_info": {
   "codemirror_mode": {
    "name": "ipython",
    "version": 3
   },
   "file_extension": ".py",
   "mimetype": "text/x-python",
   "name": "python",
   "nbconvert_exporter": "python",
   "pygments_lexer": "ipython3",
   "version": "3.5.2"
  }
 },
 "nbformat": 4,
 "nbformat_minor": 2
}
