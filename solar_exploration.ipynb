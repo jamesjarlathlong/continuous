{
 "cells": [
  {
   "cell_type": "code",
   "execution_count": 11,
   "metadata": {},
   "outputs": [],
   "source": [
    "from solar_getter import get_solar, convert_to_energy\n",
    "import pandas as pd\n",
    "import matplotlib.pyplot as plt\n",
    "import seaborn as sns\n",
    "import os\n",
    "import json\n",
    "%matplotlib inline"
   ]
  },
  {
   "cell_type": "code",
   "execution_count": 12,
   "metadata": {},
   "outputs": [],
   "source": [
    "api_key = os.environ.get('NREL')\n",
    "lat, lon= 42.3583452, -71.0937524\n",
    "lat2, lon2= 42.3783452, -71.0937524\n",
    "attributes = 'ghi,dhi,dni,wind_speed_10m_nwp,surface_air_temperature_nwp,solar_zenith_angle'\n",
    "year = '2011'\n",
    "leap_year = 'false'\n",
    "interval = '30'\n",
    "# NOTE: In order to use the NSRDB data in SAM, you must specify UTC as 'false'. SAM requires the data to be in the local time zone.\n",
    "utc = 'false'\n",
    "# Your full name, use '+' instead of spaces.\n",
    "your_name = 'James+Long'\n",
    "# Your email address\n",
    "your_email = 'jjlong@mit.edu'\n",
    "# Please join our mailing list so we can keep you up-to-date on new developments.\n",
    "# Your affiliation\n",
    "your_affiliation = 'mit'"
   ]
  },
  {
   "cell_type": "code",
   "execution_count": 13,
   "metadata": {},
   "outputs": [
    {
     "name": "stdout",
     "output_type": "stream",
     "text": [
      "metadata:  {'Precipitable Water Units': 'mm', 'Elevation': 18, 'Pressure Units': 'mbar', 'Local Time Zone': -5, 'Cloud Type 8': 'Overlapping', 'Fill Flag 2': 'Low Irradiance', 'Cloud Type 0': 'Clear', 'Fill Flag 0': nan, 'Cloud Type 5': 'Mixed', 'Cloud Type 1': 'Probably Clear', 'GHI Units': 'w/m2', 'Clearsky DHI Units': 'w/m2', 'Cloud Type 12': 'Smoke', 'Wind Speed': 'm/s', 'Version': 'v2.0.1', 'Location ID': 1325726, 'Cloud Type 3': 'Water', 'Cloud Type 10': 'Unknown', 'Source': 'NSRDB', 'Country': '-', 'Cloud Type 6': 'Opaque Ice', 'Wind Direction Units': 'Degrees', 'Time Zone': -5, 'City': '-', 'Fill Flag 1': 'Missing Image', 'Cloud Type 7': 'Cirrus', 'Clearsky GHI Units': 'w/m2', 'Longitude': -71.1, 'Cloud Type -1': nan, 'Cloud Type 11': 'Dust', 'Cloud Type 4': 'Super-Cooled Water', 'Fill Flag 5': 'Rayleigh Violation', 'Temperature Units': 'c', 'Dew Point Units': 'c', 'Fill Flag 4': 'Missing CLoud Properties', 'Relative Humidity Units': '%', 'Snow Depth Units': 'm', 'Latitude': 42.37, 'DNI Units': 'w/m2', 'Clearsky DNI Units': 'w/m2', 'DHI Units': 'w/m2', 'Solar Zenith Angle Units': 'Degree', 'State': '-', 'Cloud Type 2': 'Fog', 'Cloud Type 9': 'Overshooting', 'Fill Flag 3': 'Exceeds Clearsky'}\n",
      "metadata:  {'Precipitable Water Units': 'mm', 'Elevation': 18, 'Pressure Units': 'mbar', 'Local Time Zone': -5, 'Cloud Type 8': 'Overlapping', 'Fill Flag 2': 'Low Irradiance', 'Cloud Type 0': 'Clear', 'Fill Flag 0': nan, 'Cloud Type 5': 'Mixed', 'Cloud Type 1': 'Probably Clear', 'GHI Units': 'w/m2', 'Clearsky DHI Units': 'w/m2', 'Cloud Type 12': 'Smoke', 'Wind Speed': 'm/s', 'Version': 'v2.0.1', 'Location ID': 1325726, 'Cloud Type 3': 'Water', 'Cloud Type 10': 'Unknown', 'Source': 'NSRDB', 'Country': '-', 'Cloud Type 6': 'Opaque Ice', 'Wind Direction Units': 'Degrees', 'Time Zone': -5, 'City': '-', 'Fill Flag 1': 'Missing Image', 'Cloud Type 7': 'Cirrus', 'Clearsky GHI Units': 'w/m2', 'Longitude': -71.1, 'Cloud Type -1': nan, 'Cloud Type 11': 'Dust', 'Cloud Type 4': 'Super-Cooled Water', 'Fill Flag 5': 'Rayleigh Violation', 'Temperature Units': 'c', 'Dew Point Units': 'c', 'Fill Flag 4': 'Missing CLoud Properties', 'Relative Humidity Units': '%', 'Snow Depth Units': 'm', 'Latitude': 42.37, 'DNI Units': 'w/m2', 'Clearsky DNI Units': 'w/m2', 'DHI Units': 'w/m2', 'Solar Zenith Angle Units': 'Degree', 'State': '-', 'Cloud Type 2': 'Fog', 'Cloud Type 9': 'Overshooting', 'Fill Flag 3': 'Exceeds Clearsky'}\n"
     ]
    }
   ],
   "source": [
    "fname = 'killian_court_3hrs'\n",
    "meta, df = get_solar(fname, year=year, lat=lat, lon=lon,\n",
    "                    leap_year=leap_year, interval=interval,\n",
    "                    utc=utc, your_name=your_name, your_email=your_email,\n",
    "                    your_affiliation=your_affiliation,\n",
    "                    api_key=api_key, attributes=attributes)\n",
    "meta2, df2 = get_solar(fname, year=year, lat=lat2, lon=lon2,\n",
    "                    leap_year=leap_year, interval=interval,\n",
    "                    utc=utc, your_name=your_name, your_email=your_email,\n",
    "                    your_affiliation=your_affiliation,\n",
    "                    api_key=api_key, attributes=attributes)"
   ]
  },
  {
   "cell_type": "code",
   "execution_count": 4,
   "metadata": {},
   "outputs": [],
   "source": [
    "dfpre = pd.read_csv('killian_court.csv')\n",
    "with open('killian_court.metadata.json') as f:\n",
    "    metapre = json.load(f)"
   ]
  },
  {
   "cell_type": "code",
   "execution_count": 15,
   "metadata": {},
   "outputs": [],
   "source": [
    "generated, dcnet,acnet = convert_to_energy({'system_capacity':2e-3 , 'azimuth':90 , 'tilt':20},meta, df)\n",
    "#gen2, dcnet2, acnet2 = convert_to_energy(meta2, df2)"
   ]
  },
  {
   "cell_type": "code",
   "execution_count": 17,
   "metadata": {},
   "outputs": [
    {
     "data": {
      "image/png": "[encoded data removed]",
      "text/plain": [
       "<Figure size 432x288 with 1 Axes>"
      ]
     },
     "metadata": {},
     "output_type": "display_data"
    }
   ],
   "source": [
    "fig, ax = plt.subplots(1)\n",
    "df['gen'] = generated #kW\n",
    "df['dc'] = dcnet\n",
    "df['ac'] = acnet\n",
    "day = 100\n",
    "ax.plot(df['GHI'].iloc[day*48:day*48+48], label='Glob. Horiz. Irrad.(W)', color='k')\n",
    "ax.plot(df2['GHI'].iloc[day*48:day*48+48], label='comp')\n",
    "#ax.plot(df['DHI'].iloc[day*48:+day*48+48], label='Glob. Horiz. Irrad.(W)', color='g')\n",
    "\n",
    "#ticks = [tick for tick in ax.get_xticks()]\n",
    "#ax.set_xticklabels( ticks, rotation=45 )\n",
    "#ax2 = ax.twinx()\n",
    "#fig, ax = plt.subplots(1)\n",
    "#ax.plot(df['gen'].iloc[0:48], label='Generated energy (kW)', color='k', marker= 'o')\n",
    "\n",
    "#ax2.plot(df['dc'].iloc[day*48:+day*48+48], label='DC array energy (W)', color='r')\n",
    "#ax2.plot(df['ac'].iloc[day*48:+day*48+48], label='AC inverter energy (W)', color='b')\n",
    "#ax.legend()\n",
    "#ax2.legend()\n",
    "fig.tight_layout()\n",
    "sns.despine(top=True, right=False)\n",
    "#sns.despine()\n"
   ]
  },
  {
   "cell_type": "code",
   "execution_count": 18,
   "metadata": {},
   "outputs": [],
   "source": [
    "import itertools\n",
    "def grouper(iterable, n, fillvalue=None):\n",
    "    \"Collect data into fixed-length chunks or blocks\"\n",
    "    # grouper('ABCDEFG', 3, 'x') --> ABC DEF Gxx\"\n",
    "    args = [iter(iterable)] * n\n",
    "    return itertools.zip_longest(*args, fillvalue=fillvalue)\n",
    "def downsample(series, factor=1):\n",
    "    avg = lambda x: sum(x)/len(x)\n",
    "    chunks = grouper(series, factor)\n",
    "    return list(map(avg, chunks))\n"
   ]
  },
  {
   "cell_type": "code",
   "execution_count": 27,
   "metadata": {},
   "outputs": [],
   "source": [
    "s = downsample(dcnet[0:24], 6)"
   ]
  },
  {
   "cell_type": "code",
   "execution_count": 30,
   "metadata": {},
   "outputs": [
    {
     "data": {
      "text/plain": [
       "[<matplotlib.lines.Line2D at 0x7fa37a26b978>]"
      ]
     },
     "execution_count": 30,
     "metadata": {},
     "output_type": "execute_result"
    },
    {
     "data": {
      "image/png": "[encoded data removed]",
      "text/plain": [
       "<Figure size 432x288 with 1 Axes>"
      ]
     },
     "metadata": {},
     "output_type": "display_data"
    }
   ],
   "source": [
    "fig, ax = plt.subplots(1)\n",
    "ax.plot(dcnet[0:24])\n",
    "ax.plot([3,9,15,21], s)"
   ]
  },
  {
   "cell_type": "code",
   "execution_count": null,
   "metadata": {},
   "outputs": [],
   "source": []
  }
 ],
 "metadata": {
  "kernelspec": {
   "display_name": "continuous",
   "language": "python",
   "name": "continuous"
  },
  "language_info": {
   "codemirror_mode": {
    "name": "ipython",
    "version": 3
   },
   "file_extension": ".py",
   "mimetype": "text/x-python",
   "name": "python",
   "nbconvert_exporter": "python",
   "pygments_lexer": "ipython3",
   "version": "3.5.2"
  }
 },
 "nbformat": 4,
 "nbformat_minor": 2
}
