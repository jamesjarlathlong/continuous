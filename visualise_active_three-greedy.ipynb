{
 "cells": [
  {
   "cell_type": "code",
   "execution_count": 1,
   "metadata": {
    "collapsed": true
   },
   "outputs": [],
   "source": [
    "import json\n",
    "import matplotlib.pyplot as plt\n",
    "import seaborn as sns\n",
    "import random_graph\n",
    "import itertools\n",
    "import collections\n",
    "import pandas as pd\n",
    "from pandas.plotting import parallel_coordinates\n",
    "from matplotlib import rc\n",
    "import functools\n",
    "import matplotlib\n",
    "from mpl_toolkits.axes_grid1 import make_axes_locatable\n",
    "import numpy as np\n",
    "import scipy.sparse as sparse\n",
    "rc('text', usetex=True)\n",
    "import mpl_toolkits.mplot3d.art3d as art3d\n",
    "from matplotlib.patches import Circle, PathPatch, Wedge\n",
    "from matplotlib.collections import PatchCollection\n",
    "\n",
    "sns.set(font='serif', style='white')"
   ]
  },
  {
   "cell_type": "code",
   "execution_count": 7,
   "metadata": {
    "collapsed": true
   },
   "outputs": [],
   "source": [
    "with open('tmp/nsyot_fullnaiveseen.json') as f:#('tmp/fogdm_7000_testingnaiveseen.json') as f:\n",
    "    statetrace = json.load(f)coords = random_graph.generate_sorted_grid_coords(16)"
   ]
  },
  {
   "cell_type": "code",
   "execution_count": 10,
   "metadata": {
    "collapsed": true
   },
   "outputs": [],
   "source": [
    "coords = random_graph.generate_sorted_grid_coords(16)"
   ]
  },
  {
   "cell_type": "code",
   "execution_count": 3,
   "metadata": {},
   "outputs": [
    {
     "data": {
      "text/html": [
       "<style>\n",
       ".output {\n",
       "    flex-direction: row;\n",
       "}\n",
       "</style>"
      ],
      "text/plain": [
       "<IPython.core.display.HTML object>"
      ]
     },
     "execution_count": 3,
     "metadata": {},
     "output_type": "execute_result"
    }
   ],
   "source": [
    "CSS = \"\"\"\n",
    ".output {\n",
    "    flex-direction: row;\n",
    "}\n",
    "\"\"\"\n",
    "from IPython.display import display, HTML\n",
    "HTML('<style>{}</style>'.format(CSS))"
   ]
  },
  {
   "cell_type": "code",
   "execution_count": 4,
   "metadata": {
    "collapsed": true
   },
   "outputs": [],
   "source": [
    "def pie_marker(r1=0.9,size1=10):\n",
    "    # first define the ratios\n",
    "    #r1 = 0.9       # 20%\n",
    "    r2 = r1 + 0.4  # 40%\n",
    "    # define some sizes of the scatter marker\n",
    "    #size1= 10\n",
    "    #sizes = np.array([60, 80, 120])\n",
    "    # calculate the points of the first pie marker\n",
    "    #\n",
    "    # these are just the origin (0,0) +\n",
    "    # some points on a circle cos,sin\n",
    "    x = [0] + np.cos(np.linspace(0, 2 * np.pi * r1, 20)).tolist()\n",
    "    y = [0] + np.sin(np.linspace(0, 2 * np.pi * r1, 20)).tolist()\n",
    "    xy1 = np.column_stack([x, y])\n",
    "    s1 = np.abs(xy1).max()\n",
    "    return {'s':s1**2 *size1,'marker':(xy1,0)}\n",
    "    #fig, ax = plt.subplots()\n",
    "    #ax.scatter(range(3), range(3), marker=(xy1, 0),\n",
    "    #       s=s1 ** 2 * sizes, facecolor='blue')\n",
    "    #ax.scatter(range(3), range(3), marker=(xy2, 0),\n",
    "    #       s=s2 ** 2 * sizes, facecolor='green')\n",
    "    #ax.scatter(range(3), range(3), marker=(xy3, 0),\n",
    "    #       s=s3 ** 2 * sizes, facecolor='red')\n",
    "\n",
    "    #plt.show()\n",
    "def hex_to_rgb(value):\n",
    "    value = value.lstrip('#')\n",
    "    lv = len(value)\n",
    "    return tuple(int(value[i:i + lv // 3], 16) for i in range(0, lv, lv // 3))\n",
    "def heatplot3d(statusdata,batterydata, coords,ax, vmin=0,vmax=1,z=0):\n",
    "    \"\"\"\n",
    "    data: {'S0':p0,'S1':p1...} where p1..pn is the probability of being in that state\n",
    "    \"\"\"\n",
    "    xs =set([x for x,y in coords])\n",
    "    ys = set([y for x,y in coords])\n",
    "    top_coords = list(itertools.product(xs, [max(ys)]))\n",
    "    top_extensions = [[(x,y),(x,y+5)] for x,y in top_coords]\n",
    "    bottom_coords = list(itertools.product(xs, [min(ys)]))\n",
    "    bottom_extensions = [[(x,y),(x,y-5)] for x,y in bottom_coords]\n",
    "    right_coords= list(itertools.product([max(xs)], ys))\n",
    "    left_coords = list(itertools.product([min(xs)], ys)) \n",
    "    left_extensions = [[(x,y),(x-5,y)] for x,y in left_coords]\n",
    "    right_extensions = [[(x,y),(x+5,y)] for x,y in right_coords]\n",
    "    verticals = [list(itertools.product([x],ys)) for x in xs]\n",
    "    s=800\n",
    "    horizs = [list(itertools.product(xs,[y])) for y in ys]\n",
    "    name_to_num = lambda s:int(s[1::])\n",
    "    stringifier = lambda s: str(s) if len(str(s))==2 else ' '+str(s)        \n",
    "    cmap=plt.get_cmap(\"Greys\")\n",
    "    #our_colors = functools.partial(get_color, cmap)\n",
    "    our_colors = {0:'#252525',\n",
    "             1:'#ffffff',\n",
    "             2:'#cb181d',\n",
    "                 3:'#ffffff'}\n",
    "    contrast = {0:'#ffffff',\n",
    "             1:'#252525',\n",
    "             2:'#252525',\n",
    "                 3:'#252525'}\n",
    "    #solars = [500*ancillary['S'+str(idx)] for idx, v in enumerate(coords)]\n",
    "    zs = [z for _ in coords]\n",
    "    \n",
    "    #ax.scatter([x for x,y in coords],[y for x,y in coords],s=solars,\n",
    "    #           edgecolor='#525252', linewidth=1)\n",
    "        \n",
    "    for line in horizs+verticals+top_extensions+bottom_extensions+left_extensions+right_extensions:\n",
    "        ax.plot([x for x,y in line],[y for x,y in line],[z for _ in line], color ='#d9d9d9',\n",
    "                zorder =-1, linestyle ='--')\n",
    "    p = Circle(coords[0], 3,alpha=1,zorder=-100)\n",
    "    #ax.add_patch(p)\n",
    "    #art3d.pathpatch_2d_to_3d(p, z=z, zdir=\"z\")\n",
    "    #size_of_groups=[0.9,0.1]\n",
    "    pie_params = pie_marker(size1=1800)\n",
    "    \n",
    "    for idx,(x,y) in enumerate(coords):\n",
    "        sensorname='S'+str(idx)\n",
    "        val = statusdata[sensorname]\n",
    "        battery = batterydata[sensorname]\n",
    "        battery_fudger = lambda x: 0.95 if x>0.95 else (0.02 if x<0.02 else x)\n",
    "        offset = battery_fudger(battery)\n",
    "        color = our_colors[val]\n",
    "        pie_params = pie_marker(size1=1800,r1=offset)\n",
    "        ax.scatter([x], [y],[z],marker=pie_params['marker'],s=pie_params['s'],zorder=9,color='#252525')\n",
    "        ax.scatter([x], [y],[z],s=0.8*pie_params['s'], color='#ffffff',zorder=8)\n",
    "        ax.text(x,y,z,str(idx), color=contrast[val],horizontalalignment='center'\n",
    "                ,verticalalignment='center', fontsize=20,zorder=100)\n",
    "        if val == 1:\n",
    "            ax.scatter([x],[y],[z],color=color, edgecolor='#525252',hatch='///', linewidth=1,s=s, alpha=1,zorder=10)\n",
    "        else:\n",
    "            ax.scatter([x],[y],[z],color=color, edgecolor='#525252', linewidth=1,s=s, alpha=1,zorder=10)\n",
    "    statuses = [statusdata['S'+str(idx)] for idx,v in enumerate(coords)]\n",
    "    #print(statuses)\n",
    "    #circ=[]\n",
    "    #circ.append(Circle (coords[0], 3))\n",
    "    #coll=PatchCollection(circ, zorder=-1)\n",
    "    #ax.add_collection(coll)\n",
    "    ax.axes.get_xaxis().set_visible(False)\n",
    "    ax.axes.get_yaxis().set_visible(False)\n",
    "    #ax.set_zlim([0,1])\n",
    "    #ax_cbar = fig.add_axes([1, 0.2, 0.1, 0.6])\n",
    "    \n",
    "    #ax_cbar = fig.add_axes([0.2,0,0.6,0.1])\n",
    "    #cbar = plt.colorbar(sc, ax = ax_cbar, orientation='horizontal', fraction=1,label='Proportion of time active',\n",
    "    #                    ticks=[0,0.2,0.4,0.6,0.8,1])\n",
    "    #cbar.outline.set_visible(False)\n",
    "    #cbar.ax.tick_params(direction='out', length=2, width=0.5, colors='#525252',\n",
    "    #          grid_color='#525252', grid_alpha=0.5)\n",
    "    #ax_cbar.axes.get_xaxis().set_visible(False)\n",
    "    #ax_cbar.axes.get_yaxis().set_visible(False)\n",
    "    #ax_cbar.set_yticklabels([])\n",
    "    return ax\n"
   ]
  },
  {
   "cell_type": "code",
   "execution_count": 8,
   "metadata": {},
   "outputs": [],
   "source": [
    "run =4\n",
    "startday=43\n",
    "periods=8\n",
    "duration=5\n",
    "select = [startday*periods,(startday+duration)*periods]\n",
    "thedata = statetrace['data'][run][select[0]:select[1]]"
   ]
  },
  {
   "cell_type": "code",
   "execution_count": 12,
   "metadata": {},
   "outputs": [
    {
     "data": {
      "image/png": "[encoded data removed]",
      "text/plain": [
       "<Figure size 864x864 with 1 Axes>"
      ]
     },
     "metadata": {},
     "output_type": "display_data"
    }
   ],
   "source": [
    "#fig, ax = plt.subplots(1)\n",
    "#fig.set_size_inches(4,4)\n",
    "#heatplot(avg_solar, coords, ax,fig,vmin=0.2,vmax=0.4)\n",
    "#sns.despine(left=True, bottom=True)\n",
    "from mpl_toolkits.mplot3d import Axes3D\n",
    "for tslice in range(16,17):\n",
    "    battdata = {k:v[1]/10 for k,v in thedata[tslice].items()}\n",
    "    statuscalcer = lambda status, battery: status if battery>0 else 3\n",
    "    statusdata = {k:statuscalcer(v[0], battdata[k]) for k,v in thedata[tslice].items()}\n",
    "    fig = plt.figure()\n",
    "    fig.set_size_inches(12,12)\n",
    "    ax = fig.add_subplot(111, projection='3d')\n",
    "    #for i in [-2]:\n",
    "    ax= heatplot3d(statusdata,battdata,coords, ax,z=0)\n",
    "    ax.set_axis_off()\n",
    "    fig.savefig('3deno_{}.png'.format(tslice), dpi=600, transparent=True)\n",
    "#sns.despine(left=True, bottom=True)\n",
    "#fig2.savefig('heatplot.png')"
   ]
  },
  {
   "cell_type": "code",
   "execution_count": null,
   "metadata": {
    "collapsed": true
   },
   "outputs": [],
   "source": [
    "battdata"
   ]
  },
  {
   "cell_type": "code",
   "execution_count": null,
   "metadata": {
    "collapsed": true
   },
   "outputs": [],
   "source": [
    "contrast_text(hex_to_rgb('#253494'))"
   ]
  },
  {
   "cell_type": "code",
   "execution_count": null,
   "metadata": {
    "collapsed": true
   },
   "outputs": [],
   "source": [
    "fig, ax = plt.subplots(1)\n",
    "fig.set_size_inches(4,4)\n",
    "idx1,idx2 = 3,4\n",
    "freq_count = count_on_frequency(datae[idx1:idx2])\n",
    "avg_solar = avg_ancillary(ancillarye[idx1:idx2])\n",
    "heatplot(avg_solar, coords, ax,fig,vmin=0.2,vmax=0.4)\n",
    "sns.despine(left=True, bottom=True)\n",
    "fig2,ax2 = plt.subplots(1)\n",
    "fig2.set_size_inches(4,4)\n",
    "heatplot(freq_count, coords, ax2, fig2)\n",
    "sns.despine(left=True, bottom=True)"
   ]
  },
  {
   "cell_type": "code",
   "execution_count": null,
   "metadata": {
    "collapsed": true
   },
   "outputs": [],
   "source": []
  },
  {
   "cell_type": "code",
   "execution_count": null,
   "metadata": {
    "collapsed": true
   },
   "outputs": [],
   "source": [
    "def correlation_solar(onavg, solar_avg):\n",
    "    keys = ['S'+str(idx) for idx in range(16)]\n",
    "    d1 = np.array([onavg[k] for k in keys])\n",
    "    d2 = np.array([solar_avg[k] for k in keys])\n",
    "    d10 = d1-np.mean(d1)\n",
    "    d20 = d2-np.mean(d2)\n",
    "    return np.corrcoef(d10,d20)[1,0]\n",
    "corrs = np.zeros((15,15))\n",
    "for idx1, idx2 in itertools.product([i for i in range(15)], repeat=2):\n",
    "    freq_count = count_on_frequency(datae[idx1:idx1+1])\n",
    "    avg_solar = avg_ancillary(ancillarye[idx2:idx2+1])\n",
    "    corrs[idx1,idx2] = correlation_solar(freq_count,avg_solar)\n",
    "_ =sns.heatmap(corrs)"
   ]
  },
  {
   "cell_type": "code",
   "execution_count": null,
   "metadata": {
    "collapsed": true
   },
   "outputs": [],
   "source": [
    "def find_pairwise_correlations(states, relative=False):\n",
    "    states = pd.DataFrame([collections.OrderedDict(i) for i in unroll(data)])\n",
    "    total_states = len(states)\n",
    "    keys = list(states.columns)\n",
    "    dfs = {k:states[states[k]==1] for k in keys}\n",
    "    if relative:\n",
    "        totals = {k:v.mean(axis=0) for k,v in dfs.items()}\n",
    "    else:\n",
    "        totals = {k:v.sum(axis=0)/total_states for k,v in dfs.items()} \n",
    "    heat_array = np.asarray([v.values for k,v in \n",
    "                             sorted(totals.items(),\n",
    "                                    key=lambda i:int(i[0][1::]))])\n",
    "    return heat_array"
   ]
  },
  {
   "cell_type": "code",
   "execution_count": null,
   "metadata": {
    "collapsed": true
   },
   "outputs": [],
   "source": [
    "heat_array = find_pairwise_correlations(data, relative=False)\n",
    "fig, ax = plt.subplots(1)\n",
    "fig.set_size_inches(4,4.5)\n",
    "ax = sns.heatmap(heat_array,ax=ax,vmin=0,vmax=0.5,\n",
    "                 cbar_kws = dict(use_gridspec=False,location=\"top\",label='Correlation'))"
   ]
  },
  {
   "cell_type": "code",
   "execution_count": null,
   "metadata": {
    "collapsed": true
   },
   "outputs": [],
   "source": [
    "transition_sparse = transition_matrix(data)"
   ]
  },
  {
   "cell_type": "code",
   "execution_count": null,
   "metadata": {
    "collapsed": true
   },
   "outputs": [],
   "source": [
    "transition_sparse[[s for s in set(transition_sparse)][0]]"
   ]
  },
  {
   "cell_type": "code",
   "execution_count": null,
   "metadata": {
    "collapsed": true
   },
   "outputs": [],
   "source": [
    "def is_irreducible(sparsemat):\n",
    "    check_irreducibility = np.linalg.matrix_power(sparsemat.todense(), 100000)\n",
    "    return np.min(check_irreducibility)>0\n",
    "def dict_to_sparsemat(d):\n",
    "    all_states = set([k for k in d]+[v for k,vs in d.items() for v in vs])\n",
    "    n= len(all_states)\n",
    "    hashmap ={state:idx for idx, state in enumerate(all_states)}\n",
    "    mtx = sparse.dok_matrix((n, n), dtype=np.float64)\n",
    "    for state, destinations in d.items():\n",
    "        state_idx = hashmap[state]\n",
    "        for destination,p in destinations.items():\n",
    "            destination_idx = hashmap[destination]\n",
    "            mtx[state_idx, destination_idx] = p\n",
    "    return hashmap, mtx\n",
    "def stationary_distribution(sparsemat):\n",
    "    vals, vecs = sparse.linalg.eigs(sparsemat.T, k=6)\n",
    "    ind = vals.argsort()\n",
    "    largest = np.array(vecs[:, ind[-1]]).flatten().real\n",
    "    norm = float(largest.sum())\n",
    "    probabilities = largest/norm\n",
    "    largest_3_idx = probabilities.argsort()[::-1][0:10]\n",
    "    return dict(zip(largest_3_idx, probabilities[largest_3_idx]))\n",
    "def analyse(d):\n",
    "    lookup, sparsemat = dict_to_sparsemat(transition_sparse)\n",
    "    inverted_lookup = {v:k for k,v in lookup.items()}\n",
    "    pagerank = stationary_distribution(sparsemat)\n",
    "    res = {inverted_lookup[idx]:p for idx, p in pagerank.items()}\n",
    "    most_common = [dict(json.loads(i)) for i in res]\n",
    "    return most_common"
   ]
  },
  {
   "cell_type": "code",
   "execution_count": null,
   "metadata": {
    "collapsed": true
   },
   "outputs": [],
   "source": [
    "lookup, sparsemat = dict_to_sparsemat(transition_sparse)"
   ]
  },
  {
   "cell_type": "code",
   "execution_count": null,
   "metadata": {
    "collapsed": true
   },
   "outputs": [],
   "source": [
    "res = analyse(transition_sparse)"
   ]
  },
  {
   "cell_type": "code",
   "execution_count": null,
   "metadata": {
    "collapsed": true
   },
   "outputs": [],
   "source": [
    "fig, axarr = plt.subplots(3, 2)\n",
    "fig.set_size_inches(3.5,6)\n",
    "for idx, ax in enumerate(itertools.chain(*axarr)):\n",
    "    plot(res[idx], coords, ax, idx)\n",
    "sns.despine(left=True, bottom=True)\n",
    "fig.tight_layout()\n",
    "fig.savefig('threecommon.png', dpi=600)\n",
    "#sns.despine()"
   ]
  },
  {
   "cell_type": "code",
   "execution_count": null,
   "metadata": {
    "collapsed": true
   },
   "outputs": [],
   "source": [
    "def find_lookup_mode(moderank):\n",
    "    copied = json.loads(json.dumps(moderank))\n",
    "    f = copied.get('F')\n",
    "    del copied['F']\n",
    "    ordered = sorted([(k,int(v)) for k,v in copied.items()], key = lambda i:i[0])\n",
    "    return json.dumps(ordered), f\n",
    "def crosscheck_pagerank(dict_data, res):\n",
    "    lookup = dict([find_lookup_mode(i) for i in dict_data])\n",
    "    fmatted = sorted([(k,int(v)) for k,v in res.items()], key = lambda i:i[0])\n",
    "    return lookup[json.dumps(fmatted)]"
   ]
  },
  {
   "cell_type": "code",
   "execution_count": null,
   "metadata": {
    "collapsed": true
   },
   "outputs": [],
   "source": [
    "crosscheck_pagerank(dict_data,res[5])"
   ]
  },
  {
   "cell_type": "code",
   "execution_count": null,
   "metadata": {
    "collapsed": true
   },
   "outputs": [],
   "source": [
    "import copy,itertools\n",
    "#with open('tmp/arcyn_5000_episodes_month.json') as f:\n",
    "#    statetracelearned = json.load(f)\n",
    "with open('tmp/cuysq_6000_preserve3b_shortlearnedseen.json') as f:#('tmp/fogdm_7000_testingnaiveseen.json') as f:\n",
    "    statetracelearned = json.load(f)\n",
    "def num_changes(d):\n",
    "    any_changes =  {k:v for k,v in d.items() if v}\n",
    "    return len(any_changes)\n",
    "def plotthreeoptions(statetrace):\n",
    "    deepcolor='#cb181d'\n",
    "    idlecolor='#f05f40'\n",
    "    activecolor='#253494'\n",
    "    run =4\n",
    "    startday=43\n",
    "    periods=8\n",
    "    duration=3\n",
    "    select = [startday*periods,(startday+duration)*periods]\n",
    "    fulldata = statetrace['data'][run]\n",
    "    data = statetrace['data'][run]#[0:select[1]+16]\n",
    "    xs = list(range(len(fulldata)))#[0:select[1]+16]\n",
    "    fig, (ax1,ax2) = plt.subplots(2,1)\n",
    "    fig.set_size_inches(3.5,8)\n",
    "    #fig, ax1 = plt.subplots(1)\n",
    "    #fig.set_size_inches(8,4)\n",
    "    def bit(i):\n",
    "        res = 0 if int(i) in [1,2] else 1 \n",
    "        return res\n",
    "    for sensor in ['S'+str(i) for i in range(16)]:#['S0','S1','S2','S3']:\n",
    "        sensordata = [i[sensor] for i in data]\n",
    "        pairs = list(zip(sensordata,sensordata[1::]))\n",
    "        battdata = [{'srcx':xs[idx],'status':src[0], 'src':src[1], 'dst':dst[1]}\n",
    "                    for idx, (src,dst) in enumerate(pairs)]\n",
    "        deepbattdata = copy.deepcopy(battdata)\n",
    "        idlebattdata = copy.deepcopy(battdata)   \n",
    "        onbattdata = copy.deepcopy(battdata)   \n",
    "        for d in deepbattdata:\n",
    "            if d['status'] in [0,1]:\n",
    "                d['src'],d['dst'] = (np.nan, np.nan)\n",
    "        for d in onbattdata:\n",
    "            if d['status'] in [1,2]:\n",
    "                d['src'],d['dst'] = (np.nan, np.nan)\n",
    "        for d in idlebattdata:\n",
    "            if d['status'] in [0,2]:\n",
    "                d['src'],d['dst'] = (np.nan, np.nan)\n",
    "        def unroller(d):\n",
    "            return [(d['srcx'], d['src']), (d['srcx']+1, d['dst'])]\n",
    "        def prepare(series):\n",
    "            return list(itertools.chain(*[unroller(d) for d in series]))\n",
    "        label1 = 'Active\\nnodes'\n",
    "        label2 = 'Idle\\nnodes'\n",
    "        label3 = 'Deep sleep\\nnodes'\n",
    "        ax1.plot([x for x,y in prepare(onbattdata)],[y for x,y in prepare(onbattdata)],\n",
    "                 linestyle='--',linewidth=1, color =activecolor,marker='o'\n",
    "                 , markersize=3, alpha=0.7, label=label1 if sensor=='S0' else '')\n",
    "        ax1.plot([x for x,y in prepare(idlebattdata)],[y for x,y in prepare(idlebattdata)],\n",
    "                 linestyle='-',linewidth=1, color =idlecolor,marker='o'\n",
    "                 , markersize=3, alpha=0.7,label=label2 if sensor=='S0' else '')\n",
    "        ax1.plot([x for x,y in prepare(deepbattdata)],[y for x,y in prepare(deepbattdata)],\n",
    "                 linestyle=':',linewidth=1, color =deepcolor,marker='o'\n",
    "                 , markersize=3, alpha=0.7,label=label3 if sensor=='S0' else '')\n",
    "    ticks = [i for i in range(select[0], select[1]) if i%8==0]\n",
    "    xlabels = [int((i/8)%30) for i in ticks]\n",
    "    ax1.set_xticks(ticks)\n",
    "    ax1.set_xticklabels(xlabels)\n",
    "    ax2.set_xticks(ticks)\n",
    "    ax2.set_xticklabels(xlabels)\n",
    "    ax1.set_xlim([select[0], select[1]])\n",
    "    ax2.set_xlim([select[0], select[1]])\n",
    "    count_on = lambda de: sum([v[0]==0 and v[1]!=0 for k,v in de.items()])#and v[1]!=0\n",
    "    count_deep = lambda de: sum([v[0]==2 for k,v in de.items()])\n",
    "    count_idle = lambda de: sum([v[0]==1 and v[1]!=0 for k,v in de.items()])\n",
    "    #ax2b = ax2.twinx()\n",
    "    counts = [count_on(d) for d in data]\n",
    "    deep_count = [count_deep(d) for d in data]\n",
    "    idle_count = [count_idle(d) for d in data]\n",
    "    \n",
    "    ax2.plot(xs, counts, color = activecolor,drawstyle='steps-post', \n",
    "             linestyle= '-',markersize=2.5, marker='o', linewidth=1.25, label='\\# Active\\n  nodes')\n",
    "    \n",
    "    ax2.plot(xs, idle_count, color = idlecolor,drawstyle='steps-post', \n",
    "             linestyle= '-',markersize=2.5, marker='o', linewidth=1.25, label='\\# Idle\\n nodes')\n",
    "    ax2.plot(xs, deep_count, color = deepcolor,drawstyle='steps-post', \n",
    "             linestyle= '-',markersize=2.5, marker='o', linewidth=1.25, label='\\# Deep sleep\\n  nodes')\n",
    "    ax2.set_ylabel('\\# of nodes')\n",
    "    ax2.set_xlabel('Day')\n",
    "    #ax1.set_xlabel('Hours')\n",
    "    ax1.set_ylabel(r'Fraction of $B_{max}$')\n",
    "    #sns.despine()\n",
    "    ax1.set_ylim([0,11])\n",
    "    ax2.set_ylim([0,10])\n",
    "    ax1.set_yticks([i for i in range(0,11)])\n",
    "    ax1.set_yticklabels([i/10 for i in ax1.get_yticks()])\n",
    "    ax1.spines['top'].set_visible(False)\n",
    "    ax1.spines['right'].set_visible(False)\n",
    "    ax2.spines['top'].set_visible(False)\n",
    "    ax2.spines['right'].set_visible(False)\n",
    "    #ax1.legend(loc='upper left', ncol=2)\n",
    "    ax1.legend(bbox_to_anchor=(0,1),ncol=3, columnspacing=0.1)\n",
    "    #ax2.legend(bbox_to_anchor=(1.2,1.05),ncol=3, columnspacing=0)\n",
    "    #ax2.legend(bbox_to_anchor=(1.1,0.5))#loc='lower right')\n",
    "    #fig.tight_layout()\n",
    "    return fig,ax1, ax2\n",
    "fig,ax1,ax2 = plotthreeoptions(statetrace)\n",
    "#fig.tight_layout()\n",
    "fig.savefig('timeseries_investigation.png',dpi=600)"
   ]
  },
  {
   "cell_type": "code",
   "execution_count": null,
   "metadata": {
    "collapsed": true
   },
   "outputs": [],
   "source": [
    "with open('tmp/wwvux_three_naive_seen.json') as f:\n",
    "    statetracenaive = json.load(f)\n",
    "f, a1,a2 = plotthreeoptions(statetracenaive)"
   ]
  },
  {
   "cell_type": "code",
   "execution_count": 1,
   "metadata": {},
   "outputs": [
    {
     "name": "stderr",
     "output_type": "stream",
     "text": [
      "ERROR:root:Internal Python error in the inspect module.\n",
      "Below is the traceback from this internal error.\n",
      "\n"
     ]
    },
    {
     "name": "stdout",
     "output_type": "stream",
     "text": [
      "Traceback (most recent call last):\n",
      "  File \"/home/james/continuous/venv/lib/python3.4/site-packages/IPython/core/interactiveshell.py\", line 2963, in run_code\n",
      "    exec(code_obj, self.user_global_ns, self.user_ns)\n",
      "  File \"<ipython-input-1-524e77cdd630>\", line 1, in <module>\n",
      "    fig, ax = plt.subplots(1)\n",
      "NameError: name 'plt' is not defined\n",
      "\n",
      "During handling of the above exception, another exception occurred:\n",
      "\n",
      "Traceback (most recent call last):\n",
      "  File \"/home/james/continuous/venv/lib/python3.4/site-packages/IPython/core/interactiveshell.py\", line 1863, in showtraceback\n",
      "    stb = value._render_traceback_()\n",
      "AttributeError: 'NameError' object has no attribute '_render_traceback_'\n",
      "\n",
      "During handling of the above exception, another exception occurred:\n",
      "\n",
      "Traceback (most recent call last):\n",
      "  File \"/home/james/continuous/venv/lib/python3.4/site-packages/IPython/core/ultratb.py\", line 1095, in get_records\n",
      "    return _fixed_getinnerframes(etb, number_of_lines_of_context, tb_offset)\n",
      "  File \"/home/james/continuous/venv/lib/python3.4/site-packages/IPython/core/ultratb.py\", line 311, in wrapped\n",
      "    return f(*args, **kwargs)\n",
      "  File \"/home/james/continuous/venv/lib/python3.4/site-packages/IPython/core/ultratb.py\", line 345, in _fixed_getinnerframes\n",
      "    records = fix_frame_records_filenames(inspect.getinnerframes(etb, context))\n",
      "  File \"/usr/lib/python3.4/inspect.py\", line 1338, in getinnerframes\n",
      "    framelist.append((tb.tb_frame,) + getframeinfo(tb, context))\n",
      "  File \"/usr/lib/python3.4/inspect.py\", line 1298, in getframeinfo\n",
      "    filename = getsourcefile(frame) or getfile(frame)\n",
      "  File \"/usr/lib/python3.4/inspect.py\", line 583, in getsourcefile\n",
      "    if getattr(getmodule(object, filename), '__loader__', None) is not None:\n",
      "  File \"/usr/lib/python3.4/inspect.py\", line 619, in getmodule\n",
      "    for modname, module in list(sys.modules.items()):\n",
      "KeyboardInterrupt\n"
     ]
    },
    {
     "ename": "NameError",
     "evalue": "name 'plt' is not defined",
     "output_type": "error",
     "traceback": [
      "\u001b[0;31m---------------------------------------------------------------------------\u001b[0m"
     ]
    }
   ],
   "source": [
    "fig, ax = plt.subplots(1)\n",
    "fig.set_size_inches(3.5,8)\n",
    "\"\"\"with open('tmp/cuysq_6000_preserve3b_shortlearnedseen.json') as f:#('tmp/fogdm_7000_testingnaiveseen.json') as f:\n",
    "    statetrace = json.load(f)\n",
    "run=3\n",
    "startday = 38\n",
    "periods = 8#in three hours 8 periods make a full day\n",
    "duration =4#days\n",
    "\"\"\"\n",
    "with open('tmp/cuysq_6000_preserve3b_shortlearnedseen.json') as f:#('tmp/fogdm_7000_testingnaiveseen.json') as f:\n",
    "    statetrace = json.load(f)\n",
    "run =4\n",
    "startday=43\n",
    "periods=8\n",
    "duration=5\n",
    "select = [startday*periods,(startday+duration)*periods]\n",
    "fulldata = statetrace['data'][run]\n",
    "data = statetrace['data'][run]#[0:select[1]+16]\n",
    "#print([i['S15'][0] for i in data[select[0]:select[1]]])\n",
    "xs = list(range(len(fulldata)))#[0:select[1]+16]\n",
    "flag0,flag1,flag2,flag3 = True, True,True,True\n",
    "for i in range(16):\n",
    "    #sensor = data['S'+str(idx)]\n",
    "    ys = [i]*len(xs)\n",
    "    for idxf, state in enumerate(data[select[0]:select[1]]):\n",
    "        idx= select[0]+idxf                        \n",
    "        sensorstate = state['S'+str(i)]\n",
    "        #print(sensorstate)\n",
    "        status = sensorstate[0]\n",
    "        battery = sensorstate[1]\n",
    "        bit = 1 if battery>0 else 0\n",
    "        if status == 0 and battery>0:\n",
    "            label ='Active' if flag0 else ''\n",
    "            ax.plot([ys[idx], ys[idx+1]], [xs[idx],xs[idx+1]], color='#253494', linewidth=3,label=label)#battery/2)\n",
    "            flag0 =False\n",
    "        if status == 1 and battery>0:\n",
    "            label ='Standby' if flag1 else ''\n",
    "            ax.plot([ys[idx], ys[idx+1]], [xs[idx],xs[idx+1]], color='#f05f40', linewidth=3*bit, linestyle='-',label=label)#battery/2)\n",
    "            flag1 = False\n",
    "        if status == 2 and battery>0:\n",
    "            label = 'Deep sleep' if flag2 else ''\n",
    "            ax.plot([ys[idx], ys[idx+1]], [xs[idx],xs[idx+1]], color='#cb181d', linewidth=3*bit, linestyle=':',label=label)#battery/2)\n",
    "            flag2 = False\n",
    "        if battery == 0:\n",
    "            label ='Dead' if flag3 else ''\n",
    "            ax.plot([ys[idx], ys[idx+1]], [xs[idx],xs[idx+1]], color='#d9d9d9', linewidth=2,linestyle=':',label=label)#battery/2)\n",
    "            flag3=False\n",
    "sns.despine()\n",
    "yticks = [i for i in range(select[0], select[1]) if i%8==0]\n",
    "for y in yticks:\n",
    "    ax.plot([0,16],[y,y], linestyle='--', color='#525252', alpha=0.2)\n",
    "ylabels = [int((i/8)%30) for i in yticks]\n",
    "_ =ax.set_yticks(yticks)\n",
    "ax.set_yticklabels(ylabels)\n",
    "ax.set_ylabel('Day')\n",
    "xticks = [int(i) for i in range(16)]\n",
    "_ =ax.set_xticks(xticks)\n",
    "_ = ax.set_xlabel('Sensor \\#')\n",
    "_=ax.legend(bbox_to_anchor=(1,1.05),ncol=2)\n",
    "#ax.axvline(x=0)\n",
    "fig.savefig('temporaldetail.png',dpi=600)\n",
    "#ax.set_ylim()\n",
    "#['S12','S10','S9','S15','S11','S14','S7','S13']"
   ]
  },
  {
   "cell_type": "code",
   "execution_count": null,
   "metadata": {
    "collapsed": true
   },
   "outputs": [],
   "source": [
    "cmap=plt.get_cmap(\"Greys\")\n",
    "our_colors = functools.partial(get_color, cmap)"
   ]
  },
  {
   "cell_type": "code",
   "execution_count": null,
   "metadata": {
    "collapsed": true
   },
   "outputs": [],
   "source": [
    "our_colors(0)"
   ]
  },
  {
   "cell_type": "code",
   "execution_count": null,
   "metadata": {
    "collapsed": true
   },
   "outputs": [],
   "source": []
  }
 ],
 "metadata": {
  "kernelspec": {
   "display_name": "continuous",
   "language": "python",
   "name": "continuous"
  },
  "language_info": {
   "codemirror_mode": {
    "name": "ipython",
    "version": 3
   },
   "file_extension": ".py",
   "mimetype": "text/x-python",
   "name": "python",
   "nbconvert_exporter": "python",
   "pygments_lexer": "ipython3",
   "version": "3.4.3"
  }
 },
 "nbformat": 4,
 "nbformat_minor": 2
}
