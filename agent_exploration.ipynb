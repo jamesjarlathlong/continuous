{
 "cells": [
  {
   "cell_type": "code",
   "execution_count": 8,
   "metadata": {
    "collapsed": true
   },
   "outputs": [],
   "source": [
    "import gym\n",
    "import seaborn as sns\n",
    "from gym import spaces\n",
    "from gym.utils import seeding\n",
    "from gym.envs.registration import registry, register, make, spec\n",
    "import matplotlib\n",
    "import matplotlib.pyplot as plt\n",
    "%matplotlib inline\n",
    "import json"
   ]
  },
  {
   "cell_type": "code",
   "execution_count": 2,
   "metadata": {
    "collapsed": true
   },
   "outputs": [],
   "source": [
    "register(\n",
    "    id='Sensor-v0',\n",
    "    entry_point='sensor_env:SensorEnv',\n",
    ")\n",
    "register(\n",
    "    id='MultiSensor-v0',\n",
    "    entry_point='multi_sensor_env:MultiSensorEnv',\n",
    ")"
   ]
  },
  {
   "cell_type": "code",
   "execution_count": 3,
   "metadata": {},
   "outputs": [],
   "source": [
    "env = gym.make('MultiSensor-v0')\n"
   ]
  },
  {
   "cell_type": "code",
   "execution_count": 4,
   "metadata": {},
   "outputs": [
    {
     "name": "stdout",
     "output_type": "stream",
     "text": [
      "action:  (0, 1)\n",
      "actions: {'S1': 0, 'S0': 1}, old:{'S1': (0, 10), 'S0': (0, 10)}, new:{'S1': (0, 9), 'S0': (1, 9)}\n",
      "action:  (0, 1)\n",
      "actions: {'S1': 0, 'S0': 1}, old:{'S1': (0, 9), 'S0': (1, 9)}, new:{'S1': (0, 8), 'S0': (2, 8)}\n",
      "action:  (1, 1)\n",
      "actions: {'S1': 1, 'S0': 0}, old:{'S1': (0, 8), 'S0': (2, 8)}, new:{'S1': (1, 7), 'S0': (2, 9)}\n",
      "action:  (0, 0)\n",
      "actions: {'S1': 0, 'S0': 0}, old:{'S1': (1, 7), 'S0': (2, 9)}, new:{'S1': (2, 6), 'S0': (2, 10)}\n",
      "action:  (1, 2)\n",
      "actions: {'S1': 2, 'S0': 0}, old:{'S1': (2, 6), 'S0': (2, 10)}, new:{'S1': (0, 7), 'S0': (2, 10)}\n",
      "action:  (0, 0)\n",
      "actions: {'S1': 0, 'S0': 0}, old:{'S1': (0, 7), 'S0': (2, 10)}, new:{'S1': (0, 6), 'S0': (2, 10)}\n",
      "action:  (0, 2)\n",
      "actions: {'S1': 0, 'S0': 2}, old:{'S1': (0, 6), 'S0': (2, 10)}, new:{'S1': (0, 5), 'S0': (0, 10)}\n",
      "action:  (1, 2)\n",
      "actions: {'S1': 2, 'S0': 0}, old:{'S1': (0, 5), 'S0': (0, 10)}, new:{'S1': (0, 4), 'S0': (0, 9)}\n",
      "action:  (1, 2)\n",
      "actions: {'S1': 2, 'S0': 0}, old:{'S1': (0, 4), 'S0': (0, 9)}, new:{'S1': (0, 3), 'S0': (0, 8)}\n",
      "action:  (0, 1)\n",
      "actions: {'S1': 0, 'S0': 1}, old:{'S1': (0, 3), 'S0': (0, 8)}, new:{'S1': (0, 2), 'S0': (1, 7)}\n",
      "action:  (1, 1)\n",
      "actions: {'S1': 1, 'S0': 0}, old:{'S1': (0, 2), 'S0': (1, 7)}, new:{'S1': (1, 1), 'S0': (2, 6)}\n",
      "action:  (1, 0)\n",
      "DONE\n",
      "actions: {'S1': 0, 'S0': 0}, old:{'S1': (1, 1), 'S0': (2, 6)}, new:{'S1': (2, 0), 'S0': (2, 7)}\n",
      "action:  (1, 0)\n",
      "actions: {'S1': 0, 'S0': 0}, old:{'S1': (0, 10), 'S0': (0, 10)}, new:{'S1': (0, 9), 'S0': (0, 9)}\n",
      "action:  (1, 0)\n",
      "actions: {'S1': 0, 'S0': 0}, old:{'S1': (0, 9), 'S0': (0, 9)}, new:{'S1': (0, 8), 'S0': (0, 8)}\n",
      "action:  (1, 1)\n",
      "actions: {'S1': 1, 'S0': 0}, old:{'S1': (0, 8), 'S0': (0, 8)}, new:{'S1': (1, 7), 'S0': (0, 7)}\n",
      "action:  (0, 0)\n",
      "actions: {'S1': 0, 'S0': 0}, old:{'S1': (1, 7), 'S0': (0, 7)}, new:{'S1': (2, 6), 'S0': (0, 6)}\n",
      "action:  (0, 0)\n",
      "actions: {'S1': 0, 'S0': 0}, old:{'S1': (2, 6), 'S0': (0, 6)}, new:{'S1': (2, 7), 'S0': (0, 5)}\n",
      "action:  (1, 1)\n",
      "actions: {'S1': 1, 'S0': 0}, old:{'S1': (2, 7), 'S0': (0, 5)}, new:{'S1': (1, 8), 'S0': (0, 4)}\n",
      "action:  (1, 2)\n",
      "actions: {'S1': 2, 'S0': 0}, old:{'S1': (1, 8), 'S0': (0, 4)}, new:{'S1': (2, 7), 'S0': (0, 3)}\n",
      "action:  (1, 0)\n",
      "actions: {'S1': 0, 'S0': 0}, old:{'S1': (2, 7), 'S0': (0, 3)}, new:{'S1': (2, 8), 'S0': (0, 2)}\n",
      "action:  (1, 1)\n",
      "actions: {'S1': 1, 'S0': 0}, old:{'S1': (2, 8), 'S0': (0, 2)}, new:{'S1': (1, 9), 'S0': (0, 1)}\n",
      "action:  (1, 0)\n",
      "DONE\n",
      "actions: {'S1': 0, 'S0': 0}, old:{'S1': (1, 9), 'S0': (0, 1)}, new:{'S1': (2, 8), 'S0': (0, 0)}\n",
      "action:  (1, 2)\n",
      "actions: {'S1': 2, 'S0': 0}, old:{'S1': (0, 10), 'S0': (0, 10)}, new:{'S1': (0, 9), 'S0': (0, 9)}\n",
      "action:  (0, 2)\n",
      "actions: {'S1': 0, 'S0': 2}, old:{'S1': (0, 9), 'S0': (0, 9)}, new:{'S1': (0, 8), 'S0': (0, 8)}\n",
      "action:  (1, 2)\n",
      "actions: {'S1': 2, 'S0': 0}, old:{'S1': (0, 8), 'S0': (0, 8)}, new:{'S1': (0, 7), 'S0': (0, 7)}\n",
      "action:  (1, 0)\n",
      "actions: {'S1': 0, 'S0': 0}, old:{'S1': (0, 7), 'S0': (0, 7)}, new:{'S1': (0, 6), 'S0': (0, 6)}\n",
      "action:  (0, 0)\n",
      "actions: {'S1': 0, 'S0': 0}, old:{'S1': (0, 6), 'S0': (0, 6)}, new:{'S1': (0, 5), 'S0': (0, 5)}\n",
      "action:  (0, 0)\n",
      "actions: {'S1': 0, 'S0': 0}, old:{'S1': (0, 5), 'S0': (0, 5)}, new:{'S1': (0, 4), 'S0': (0, 4)}\n",
      "action:  (1, 1)\n",
      "actions: {'S1': 1, 'S0': 0}, old:{'S1': (0, 4), 'S0': (0, 4)}, new:{'S1': (1, 3), 'S0': (0, 3)}\n",
      "action:  (0, 0)\n",
      "actions: {'S1': 0, 'S0': 0}, old:{'S1': (1, 3), 'S0': (0, 3)}, new:{'S1': (2, 2), 'S0': (0, 2)}\n",
      "action:  (0, 1)\n",
      "actions: {'S1': 0, 'S0': 1}, old:{'S1': (2, 2), 'S0': (0, 2)}, new:{'S1': (2, 3), 'S0': (1, 1)}\n",
      "action:  (1, 0)\n",
      "DONE\n",
      "actions: {'S1': 0, 'S0': 0}, old:{'S1': (2, 3), 'S0': (1, 1)}, new:{'S1': (2, 4), 'S0': (2, 0)}\n",
      "action:  (1, 2)\n",
      "actions: {'S1': 2, 'S0': 0}, old:{'S1': (0, 10), 'S0': (0, 10)}, new:{'S1': (0, 9), 'S0': (0, 9)}\n",
      "action:  (0, 0)\n",
      "actions: {'S1': 0, 'S0': 0}, old:{'S1': (0, 9), 'S0': (0, 9)}, new:{'S1': (0, 8), 'S0': (0, 8)}\n",
      "action:  (1, 1)\n",
      "actions: {'S1': 1, 'S0': 0}, old:{'S1': (0, 8), 'S0': (0, 8)}, new:{'S1': (1, 7), 'S0': (0, 7)}\n",
      "action:  (1, 1)\n",
      "actions: {'S1': 1, 'S0': 0}, old:{'S1': (1, 7), 'S0': (0, 7)}, new:{'S1': (2, 6), 'S0': (0, 6)}\n",
      "action:  (1, 2)\n",
      "actions: {'S1': 2, 'S0': 0}, old:{'S1': (2, 6), 'S0': (0, 6)}, new:{'S1': (0, 7), 'S0': (0, 5)}\n",
      "action:  (1, 2)\n",
      "actions: {'S1': 2, 'S0': 0}, old:{'S1': (0, 7), 'S0': (0, 5)}, new:{'S1': (0, 6), 'S0': (0, 4)}\n",
      "action:  (0, 0)\n",
      "actions: {'S1': 0, 'S0': 0}, old:{'S1': (0, 6), 'S0': (0, 4)}, new:{'S1': (0, 5), 'S0': (0, 3)}\n",
      "action:  (0, 1)\n",
      "actions: {'S1': 0, 'S0': 1}, old:{'S1': (0, 5), 'S0': (0, 3)}, new:{'S1': (0, 4), 'S0': (1, 2)}\n",
      "action:  (0, 1)\n",
      "actions: {'S1': 0, 'S0': 1}, old:{'S1': (0, 4), 'S0': (1, 2)}, new:{'S1': (0, 3), 'S0': (2, 1)}\n",
      "action:  (0, 0)\n",
      "actions: {'S1': 0, 'S0': 0}, old:{'S1': (0, 3), 'S0': (2, 1)}, new:{'S1': (0, 2), 'S0': (2, 2)}\n",
      "action:  (1, 0)\n",
      "actions: {'S1': 0, 'S0': 0}, old:{'S1': (0, 2), 'S0': (2, 2)}, new:{'S1': (0, 1), 'S0': (2, 3)}\n",
      "action:  (0, 0)\n",
      "DONE\n",
      "actions: {'S1': 0, 'S0': 0}, old:{'S1': (0, 1), 'S0': (2, 3)}, new:{'S1': (0, 0), 'S0': (2, 4)}\n",
      "action:  (1, 0)\n",
      "actions: {'S1': 0, 'S0': 0}, old:{'S1': (0, 10), 'S0': (0, 10)}, new:{'S1': (0, 9), 'S0': (0, 9)}\n",
      "action:  (1, 0)\n",
      "actions: {'S1': 0, 'S0': 0}, old:{'S1': (0, 9), 'S0': (0, 9)}, new:{'S1': (0, 8), 'S0': (0, 8)}\n",
      "action:  (0, 0)\n",
      "actions: {'S1': 0, 'S0': 0}, old:{'S1': (0, 8), 'S0': (0, 8)}, new:{'S1': (0, 7), 'S0': (0, 7)}\n",
      "action:  (0, 2)\n",
      "actions: {'S1': 0, 'S0': 2}, old:{'S1': (0, 7), 'S0': (0, 7)}, new:{'S1': (0, 6), 'S0': (0, 6)}\n",
      "action:  (1, 0)\n",
      "actions: {'S1': 0, 'S0': 0}, old:{'S1': (0, 6), 'S0': (0, 6)}, new:{'S1': (0, 5), 'S0': (0, 5)}\n",
      "action:  (1, 2)\n",
      "actions: {'S1': 2, 'S0': 0}, old:{'S1': (0, 5), 'S0': (0, 5)}, new:{'S1': (0, 4), 'S0': (0, 4)}\n",
      "action:  (1, 1)\n",
      "actions: {'S1': 1, 'S0': 0}, old:{'S1': (0, 4), 'S0': (0, 4)}, new:{'S1': (1, 3), 'S0': (0, 3)}\n",
      "action:  (1, 1)\n",
      "actions: {'S1': 1, 'S0': 0}, old:{'S1': (1, 3), 'S0': (0, 3)}, new:{'S1': (2, 2), 'S0': (0, 2)}\n",
      "action:  (0, 1)\n",
      "actions: {'S1': 0, 'S0': 1}, old:{'S1': (2, 2), 'S0': (0, 2)}, new:{'S1': (2, 3), 'S0': (1, 1)}\n",
      "action:  (1, 1)\n",
      "DONE\n",
      "actions: {'S1': 1, 'S0': 0}, old:{'S1': (2, 3), 'S0': (1, 1)}, new:{'S1': (1, 4), 'S0': (2, 0)}\n",
      "action:  (1, 0)\n",
      "actions: {'S1': 0, 'S0': 0}, old:{'S1': (0, 10), 'S0': (0, 10)}, new:{'S1': (0, 9), 'S0': (0, 9)}\n",
      "action:  (1, 1)\n",
      "actions: {'S1': 1, 'S0': 0}, old:{'S1': (0, 9), 'S0': (0, 9)}, new:{'S1': (1, 8), 'S0': (0, 8)}\n",
      "action:  (0, 0)\n",
      "actions: {'S1': 0, 'S0': 0}, old:{'S1': (1, 8), 'S0': (0, 8)}, new:{'S1': (2, 7), 'S0': (0, 7)}\n",
      "action:  (1, 2)\n",
      "actions: {'S1': 2, 'S0': 0}, old:{'S1': (2, 7), 'S0': (0, 7)}, new:{'S1': (0, 8), 'S0': (0, 6)}\n",
      "action:  (0, 2)\n",
      "actions: {'S1': 0, 'S0': 2}, old:{'S1': (0, 8), 'S0': (0, 6)}, new:{'S1': (0, 7), 'S0': (0, 5)}\n",
      "action:  (0, 1)\n",
      "actions: {'S1': 0, 'S0': 1}, old:{'S1': (0, 7), 'S0': (0, 5)}, new:{'S1': (0, 6), 'S0': (1, 4)}\n",
      "action:  (1, 2)\n",
      "actions: {'S1': 2, 'S0': 0}, old:{'S1': (0, 6), 'S0': (1, 4)}, new:{'S1': (0, 5), 'S0': (2, 3)}\n",
      "action:  (0, 1)\n",
      "actions: {'S1': 0, 'S0': 1}, old:{'S1': (0, 5), 'S0': (2, 3)}, new:{'S1': (0, 4), 'S0': (1, 4)}\n",
      "action:  (0, 1)\n",
      "actions: {'S1': 0, 'S0': 1}, old:{'S1': (0, 4), 'S0': (1, 4)}, new:{'S1': (0, 3), 'S0': (2, 3)}\n",
      "action:  (1, 0)\n",
      "actions: {'S1': 0, 'S0': 0}, old:{'S1': (0, 3), 'S0': (2, 3)}, new:{'S1': (0, 2), 'S0': (2, 4)}\n",
      "action:  (0, 2)\n",
      "actions: {'S1': 0, 'S0': 2}, old:{'S1': (0, 2), 'S0': (2, 4)}, new:{'S1': (0, 1), 'S0': (0, 5)}\n",
      "action:  (1, 2)\n",
      "DONE\n",
      "actions: {'S1': 2, 'S0': 0}, old:{'S1': (0, 1), 'S0': (0, 5)}, new:{'S1': (0, 0), 'S0': (0, 4)}\n",
      "action:  (1, 2)\n",
      "actions: {'S1': 2, 'S0': 0}, old:{'S1': (0, 10), 'S0': (0, 10)}, new:{'S1': (0, 9), 'S0': (0, 9)}\n",
      "action:  (1, 2)\n",
      "actions: {'S1': 2, 'S0': 0}, old:{'S1': (0, 9), 'S0': (0, 9)}, new:{'S1': (0, 8), 'S0': (0, 8)}\n",
      "action:  (0, 2)\n",
      "actions: {'S1': 0, 'S0': 2}, old:{'S1': (0, 8), 'S0': (0, 8)}, new:{'S1': (0, 7), 'S0': (0, 7)}\n",
      "action:  (1, 2)\n",
      "actions: {'S1': 2, 'S0': 0}, old:{'S1': (0, 7), 'S0': (0, 7)}, new:{'S1': (0, 6), 'S0': (0, 6)}\n",
      "action:  (0, 0)\n",
      "actions: {'S1': 0, 'S0': 0}, old:{'S1': (0, 6), 'S0': (0, 6)}, new:{'S1': (0, 5), 'S0': (0, 5)}\n",
      "action:  (1, 2)\n",
      "actions: {'S1': 2, 'S0': 0}, old:{'S1': (0, 5), 'S0': (0, 5)}, new:{'S1': (0, 4), 'S0': (0, 4)}\n",
      "action:  (1, 2)\n",
      "actions: {'S1': 2, 'S0': 0}, old:{'S1': (0, 4), 'S0': (0, 4)}, new:{'S1': (0, 3), 'S0': (0, 3)}\n",
      "action:  (1, 2)\n",
      "actions: {'S1': 2, 'S0': 0}, old:{'S1': (0, 3), 'S0': (0, 3)}, new:{'S1': (0, 2), 'S0': (0, 2)}\n",
      "action:  (1, 0)\n",
      "actions: {'S1': 0, 'S0': 0}, old:{'S1': (0, 2), 'S0': (0, 2)}, new:{'S1': (0, 1), 'S0': (0, 1)}\n",
      "action:  (0, 2)\n",
      "DONE\n",
      "actions: {'S1': 0, 'S0': 2}, old:{'S1': (0, 1), 'S0': (0, 1)}, new:{'S1': (0, 0), 'S0': (0, 0)}\n",
      "action:  (1, 0)\n",
      "actions: {'S1': 0, 'S0': 0}, old:{'S1': (0, 10), 'S0': (0, 10)}, new:{'S1': (0, 9), 'S0': (0, 9)}\n",
      "action:  (1, 2)\n",
      "actions: {'S1': 2, 'S0': 0}, old:{'S1': (0, 9), 'S0': (0, 9)}, new:{'S1': (0, 8), 'S0': (0, 8)}\n",
      "action:  (1, 0)\n",
      "actions: {'S1': 0, 'S0': 0}, old:{'S1': (0, 8), 'S0': (0, 8)}, new:{'S1': (0, 7), 'S0': (0, 7)}\n",
      "action:  (0, 2)\n",
      "actions: {'S1': 0, 'S0': 2}, old:{'S1': (0, 7), 'S0': (0, 7)}, new:{'S1': (0, 6), 'S0': (0, 6)}\n",
      "action:  (0, 2)\n",
      "actions: {'S1': 0, 'S0': 2}, old:{'S1': (0, 6), 'S0': (0, 6)}, new:{'S1': (0, 5), 'S0': (0, 5)}\n",
      "action:  (1, 2)\n",
      "actions: {'S1': 2, 'S0': 0}, old:{'S1': (0, 5), 'S0': (0, 5)}, new:{'S1': (0, 4), 'S0': (0, 4)}\n",
      "action:  (0, 0)\n",
      "actions: {'S1': 0, 'S0': 0}, old:{'S1': (0, 4), 'S0': (0, 4)}, new:{'S1': (0, 3), 'S0': (0, 3)}\n",
      "action:  (0, 0)\n",
      "actions: {'S1': 0, 'S0': 0}, old:{'S1': (0, 3), 'S0': (0, 3)}, new:{'S1': (0, 2), 'S0': (0, 2)}\n",
      "action:  (1, 2)\n",
      "actions: {'S1': 2, 'S0': 0}, old:{'S1': (0, 2), 'S0': (0, 2)}, new:{'S1': (0, 1), 'S0': (0, 1)}\n",
      "action:  (0, 1)\n",
      "DONE\n",
      "actions: {'S1': 0, 'S0': 1}, old:{'S1': (0, 1), 'S0': (0, 1)}, new:{'S1': (0, 0), 'S0': (1, 0)}\n",
      "action:  (0, 2)\n",
      "actions: {'S1': 0, 'S0': 2}, old:{'S1': (0, 10), 'S0': (0, 10)}, new:{'S1': (0, 9), 'S0': (0, 9)}\n",
      "action:  (0, 1)\n",
      "actions: {'S1': 0, 'S0': 1}, old:{'S1': (0, 9), 'S0': (0, 9)}, new:{'S1': (0, 8), 'S0': (1, 8)}\n",
      "action:  (0, 0)\n",
      "actions: {'S1': 0, 'S0': 0}, old:{'S1': (0, 8), 'S0': (1, 8)}, new:{'S1': (0, 7), 'S0': (2, 7)}\n",
      "action:  (0, 0)\n",
      "actions: {'S1': 0, 'S0': 0}, old:{'S1': (0, 7), 'S0': (2, 7)}, new:{'S1': (0, 6), 'S0': (2, 8)}\n",
      "action:  (0, 2)\n",
      "actions: {'S1': 0, 'S0': 2}, old:{'S1': (0, 6), 'S0': (2, 8)}, new:{'S1': (0, 5), 'S0': (0, 9)}\n",
      "action:  (0, 0)\n",
      "actions: {'S1': 0, 'S0': 0}, old:{'S1': (0, 5), 'S0': (0, 9)}, new:{'S1': (0, 4), 'S0': (0, 8)}\n",
      "action:  (1, 0)\n",
      "actions: {'S1': 0, 'S0': 0}, old:{'S1': (0, 4), 'S0': (0, 8)}, new:{'S1': (0, 3), 'S0': (0, 7)}\n",
      "action:  (1, 2)\n",
      "actions: {'S1': 2, 'S0': 0}, old:{'S1': (0, 3), 'S0': (0, 7)}, new:{'S1': (0, 2), 'S0': (0, 6)}\n",
      "action:  (0, 0)\n",
      "actions: {'S1': 0, 'S0': 0}, old:{'S1': (0, 2), 'S0': (0, 6)}, new:{'S1': (0, 1), 'S0': (0, 5)}\n",
      "action:  (1, 1)\n",
      "DONE\n",
      "actions: {'S1': 1, 'S0': 0}, old:{'S1': (0, 1), 'S0': (0, 5)}, new:{'S1': (1, 0), 'S0': (0, 4)}\n",
      "action:  (1, 0)\n",
      "actions: {'S1': 0, 'S0': 0}, old:{'S1': (0, 10), 'S0': (0, 10)}, new:{'S1': (0, 9), 'S0': (0, 9)}\n",
      "action:  (0, 1)\n",
      "actions: {'S1': 0, 'S0': 1}, old:{'S1': (0, 9), 'S0': (0, 9)}, new:{'S1': (0, 8), 'S0': (1, 8)}\n",
      "action:  (1, 1)\n",
      "actions: {'S1': 1, 'S0': 0}, old:{'S1': (0, 8), 'S0': (1, 8)}, new:{'S1': (1, 7), 'S0': (2, 7)}\n",
      "action:  (1, 0)\n",
      "actions: {'S1': 0, 'S0': 0}, old:{'S1': (1, 7), 'S0': (2, 7)}, new:{'S1': (2, 6), 'S0': (2, 8)}\n",
      "action:  (0, 0)\n",
      "actions: {'S1': 0, 'S0': 0}, old:{'S1': (2, 6), 'S0': (2, 8)}, new:{'S1': (2, 7), 'S0': (2, 9)}\n",
      "action:  (1, 1)\n",
      "actions: {'S1': 1, 'S0': 0}, old:{'S1': (2, 7), 'S0': (2, 9)}, new:{'S1': (1, 8), 'S0': (2, 10)}\n",
      "action:  (0, 1)\n",
      "actions: {'S1': 0, 'S0': 1}, old:{'S1': (1, 8), 'S0': (2, 10)}, new:{'S1': (2, 7), 'S0': (1, 10)}\n",
      "action:  (0, 0)\n",
      "actions: {'S1': 0, 'S0': 0}, old:{'S1': (2, 7), 'S0': (1, 10)}, new:{'S1': (2, 8), 'S0': (2, 9)}\n",
      "action:  (1, 2)\n",
      "actions: {'S1': 2, 'S0': 0}, old:{'S1': (2, 8), 'S0': (2, 9)}, new:{'S1': (0, 9), 'S0': (2, 10)}\n",
      "action:  (1, 1)\n",
      "actions: {'S1': 1, 'S0': 0}, old:{'S1': (0, 9), 'S0': (2, 10)}, new:{'S1': (1, 8), 'S0': (2, 10)}\n",
      "action:  (1, 1)\n",
      "actions: {'S1': 1, 'S0': 0}, old:{'S1': (1, 8), 'S0': (2, 10)}, new:{'S1': (2, 7), 'S0': (2, 10)}\n",
      "action:  (0, 0)\n",
      "actions: {'S1': 0, 'S0': 0}, old:{'S1': (2, 7), 'S0': (2, 10)}, new:{'S1': (2, 8), 'S0': (2, 10)}\n",
      "action:  (0, 1)\n",
      "actions: {'S1': 0, 'S0': 1}, old:{'S1': (2, 8), 'S0': (2, 10)}, new:{'S1': (2, 9), 'S0': (1, 10)}\n",
      "action:  (0, 1)\n",
      "actions: {'S1': 0, 'S0': 1}, old:{'S1': (2, 9), 'S0': (1, 10)}, new:{'S1': (2, 10), 'S0': (2, 9)}\n",
      "action:  (1, 1)\n",
      "actions: {'S1': 1, 'S0': 0}, old:{'S1': (2, 10), 'S0': (2, 9)}, new:{'S1': (1, 10), 'S0': (2, 10)}\n",
      "action:  (1, 0)\n",
      "actions: {'S1': 0, 'S0': 0}, old:{'S1': (1, 10), 'S0': (2, 10)}, new:{'S1': (2, 9), 'S0': (2, 10)}\n",
      "action:  (0, 1)\n",
      "actions: {'S1': 0, 'S0': 1}, old:{'S1': (2, 9), 'S0': (2, 10)}, new:{'S1': (2, 10), 'S0': (1, 10)}\n",
      "action:  (0, 0)\n",
      "actions: {'S1': 0, 'S0': 0}, old:{'S1': (2, 10), 'S0': (1, 10)}, new:{'S1': (2, 10), 'S0': (2, 9)}\n",
      "action:  (0, 2)\n",
      "actions: {'S1': 0, 'S0': 2}, old:{'S1': (2, 10), 'S0': (2, 9)}, new:{'S1': (2, 10), 'S0': (0, 10)}\n",
      "action:  (1, 1)\n",
      "actions: {'S1': 1, 'S0': 0}, old:{'S1': (2, 10), 'S0': (0, 10)}, new:{'S1': (1, 10), 'S0': (0, 9)}\n",
      "action:  (1, 1)\n",
      "actions: {'S1': 1, 'S0': 0}, old:{'S1': (1, 10), 'S0': (0, 9)}, new:{'S1': (2, 9), 'S0': (0, 8)}\n",
      "action:  (1, 2)\n",
      "actions: {'S1': 2, 'S0': 0}, old:{'S1': (2, 9), 'S0': (0, 8)}, new:{'S1': (0, 10), 'S0': (0, 7)}\n",
      "action:  (0, 0)\n",
      "actions: {'S1': 0, 'S0': 0}, old:{'S1': (0, 10), 'S0': (0, 7)}, new:{'S1': (0, 9), 'S0': (0, 6)}\n",
      "action:  (1, 0)\n",
      "actions: {'S1': 0, 'S0': 0}, old:{'S1': (0, 9), 'S0': (0, 6)}, new:{'S1': (0, 8), 'S0': (0, 5)}\n",
      "action:  (1, 2)\n",
      "actions: {'S1': 2, 'S0': 0}, old:{'S1': (0, 8), 'S0': (0, 5)}, new:{'S1': (0, 7), 'S0': (0, 4)}\n",
      "action:  (1, 2)\n",
      "actions: {'S1': 2, 'S0': 0}, old:{'S1': (0, 7), 'S0': (0, 4)}, new:{'S1': (0, 6), 'S0': (0, 3)}\n",
      "action:  (0, 2)\n",
      "actions: {'S1': 0, 'S0': 2}, old:{'S1': (0, 6), 'S0': (0, 3)}, new:{'S1': (0, 5), 'S0': (0, 2)}\n",
      "action:  (1, 2)\n",
      "actions: {'S1': 2, 'S0': 0}, old:{'S1': (0, 5), 'S0': (0, 2)}, new:{'S1': (0, 4), 'S0': (0, 1)}\n",
      "action:  (0, 1)\n",
      "DONE\n",
      "actions: {'S1': 0, 'S0': 1}, old:{'S1': (0, 4), 'S0': (0, 1)}, new:{'S1': (0, 3), 'S0': (1, 0)}\n"
     ]
    }
   ],
   "source": [
    "class RandomAgent(object):\n",
    "    \"\"\"The world's simplest agent!\"\"\"\n",
    "    def __init__(self, action_space):\n",
    "        self.action_space = action_space\n",
    "    def act(self, observation, reward, done):\n",
    "        return self.action_space.sample()\n",
    "agent = RandomAgent(env.action_space)\n",
    "episode_count = 10\n",
    "reward = 0\n",
    "done=False\n",
    "for i in range(episode_count):\n",
    "        ob = env.reset()\n",
    "        while True:\n",
    "            action = agent.act(ob, reward, done)\n",
    "            print('action: ', action)\n",
    "            ob, reward, done, _ = env.step(action)\n",
    "            if done:\n",
    "                break"
   ]
  },
  {
   "cell_type": "code",
   "execution_count": 10,
   "metadata": {},
   "outputs": [
    {
     "data": {
      "text/plain": [
       "'[1, 1]'"
      ]
     },
     "execution_count": 10,
     "metadata": {},
     "output_type": "execute_result"
    }
   ],
   "source": [
    "def stringify(state):\n",
    "    return json.dumps(state)\n",
    "stringify(env.observation_space.sample())\n",
    "stringify(env.action_space.sample())"
   ]
  },
  {
   "cell_type": "code",
   "execution_count": 6,
   "metadata": {},
   "outputs": [
    {
     "name": "stdout",
     "output_type": "stream",
     "text": [
      "#######New episode#############\n",
      "current state: {'S1': (0, 10), 'S0': (0, 10)}\n",
      "actions: {'S1': 0, 'S0': 2}, old:{'S1': (0, 10), 'S0': (0, 10)}, new:{'S1': (0, 9), 'S0': (0, 9)}\n",
      "action:(0, 2),state:{'S1': (0, 9), 'S0': (0, 9)} reward:1\n"
     ]
    },
    {
     "ename": "IndexError",
     "evalue": "only integers, slices (`:`), ellipsis (`...`), numpy.newaxis (`None`) and integer or boolean arrays are valid indices",
     "output_type": "error",
     "traceback": [
      "\u001b[0;31m---------------------------------------------------------------------------\u001b[0m",
      "\u001b[0;31mIndexError\u001b[0m                                Traceback (most recent call last)",
      "\u001b[0;32m<ipython-input-6-07c27eea0cf3>\u001b[0m in \u001b[0;36m<module>\u001b[0;34m()\u001b[0m\n\u001b[1;32m      4\u001b[0m                  \u001b[0mmin_epsilon\u001b[0m\u001b[0;34m=\u001b[0m\u001b[0;36m0.1\u001b[0m\u001b[0;34m,\u001b[0m \u001b[0mgamma\u001b[0m\u001b[0;34m=\u001b[0m\u001b[0;36m0.9\u001b[0m\u001b[0;34m,\u001b[0m \u001b[0mada_divisor\u001b[0m\u001b[0;34m=\u001b[0m\u001b[0;36m25\u001b[0m\u001b[0;34m,\u001b[0m \u001b[0mmax_env_steps\u001b[0m\u001b[0;34m=\u001b[0m\u001b[0;32mNone\u001b[0m\u001b[0;34m,\u001b[0m\u001b[0;34m\u001b[0m\u001b[0m\n\u001b[1;32m      5\u001b[0m                  quiet=False)\n\u001b[0;32m----> 6\u001b[0;31m \u001b[0mqagent\u001b[0m\u001b[0;34m.\u001b[0m\u001b[0mrun\u001b[0m\u001b[0;34m(\u001b[0m\u001b[0;34m)\u001b[0m\u001b[0;34m\u001b[0m\u001b[0m\n\u001b[0m",
      "\u001b[0;32m~/continuous/qlearner.py\u001b[0m in \u001b[0;36mrun\u001b[0;34m(self)\u001b[0m\n\u001b[1;32m     60\u001b[0m                 \u001b[0mprint\u001b[0m\u001b[0;34m(\u001b[0m\u001b[0;34m'action:{},state:{} reward:{}'\u001b[0m\u001b[0;34m.\u001b[0m\u001b[0mformat\u001b[0m\u001b[0;34m(\u001b[0m\u001b[0maction\u001b[0m\u001b[0;34m,\u001b[0m \u001b[0mobs\u001b[0m\u001b[0;34m,\u001b[0m \u001b[0mreward\u001b[0m\u001b[0;34m)\u001b[0m\u001b[0;34m)\u001b[0m\u001b[0;34m\u001b[0m\u001b[0m\n\u001b[1;32m     61\u001b[0m                 \u001b[0mnew_state\u001b[0m \u001b[0;34m=\u001b[0m \u001b[0mobs\u001b[0m\u001b[0;34m\u001b[0m\u001b[0m\n\u001b[0;32m---> 62\u001b[0;31m                 \u001b[0mself\u001b[0m\u001b[0;34m.\u001b[0m\u001b[0mupdate_q\u001b[0m\u001b[0;34m(\u001b[0m\u001b[0mcurrent_state\u001b[0m\u001b[0;34m,\u001b[0m \u001b[0maction\u001b[0m\u001b[0;34m,\u001b[0m \u001b[0mreward\u001b[0m\u001b[0;34m,\u001b[0m \u001b[0mnew_state\u001b[0m\u001b[0;34m,\u001b[0m \u001b[0malpha\u001b[0m\u001b[0;34m)\u001b[0m\u001b[0;34m\u001b[0m\u001b[0m\n\u001b[0m\u001b[1;32m     63\u001b[0m                 \u001b[0mcurrent_state\u001b[0m \u001b[0;34m=\u001b[0m \u001b[0mnew_state\u001b[0m\u001b[0;34m\u001b[0m\u001b[0m\n\u001b[1;32m     64\u001b[0m                 \u001b[0mi\u001b[0m \u001b[0;34m+=\u001b[0m \u001b[0;36m1\u001b[0m\u001b[0;34m\u001b[0m\u001b[0m\n",
      "\u001b[0;32m~/continuous/qlearner.py\u001b[0m in \u001b[0;36mupdate_q\u001b[0;34m(self, state_old, action, reward, state_new, alpha)\u001b[0m\n\u001b[1;32m     34\u001b[0m \u001b[0;34m\u001b[0m\u001b[0m\n\u001b[1;32m     35\u001b[0m     \u001b[0;32mdef\u001b[0m \u001b[0mupdate_q\u001b[0m\u001b[0;34m(\u001b[0m\u001b[0mself\u001b[0m\u001b[0;34m,\u001b[0m \u001b[0mstate_old\u001b[0m\u001b[0;34m,\u001b[0m \u001b[0maction\u001b[0m\u001b[0;34m,\u001b[0m \u001b[0mreward\u001b[0m\u001b[0;34m,\u001b[0m \u001b[0mstate_new\u001b[0m\u001b[0;34m,\u001b[0m \u001b[0malpha\u001b[0m\u001b[0;34m)\u001b[0m\u001b[0;34m:\u001b[0m\u001b[0;34m\u001b[0m\u001b[0m\n\u001b[0;32m---> 36\u001b[0;31m         \u001b[0mself\u001b[0m\u001b[0;34m.\u001b[0m\u001b[0mQ\u001b[0m\u001b[0;34m[\u001b[0m\u001b[0mstate_old\u001b[0m\u001b[0;34m]\u001b[0m\u001b[0;34m[\u001b[0m\u001b[0maction\u001b[0m\u001b[0;34m]\u001b[0m \u001b[0;34m+=\u001b[0m \u001b[0malpha\u001b[0m \u001b[0;34m*\u001b[0m \u001b[0;34m(\u001b[0m\u001b[0mreward\u001b[0m \u001b[0;34m+\u001b[0m \u001b[0mself\u001b[0m\u001b[0;34m.\u001b[0m\u001b[0mgamma\u001b[0m \u001b[0;34m*\u001b[0m \u001b[0mnp\u001b[0m\u001b[0;34m.\u001b[0m\u001b[0mmax\u001b[0m\u001b[0;34m(\u001b[0m\u001b[0mself\u001b[0m\u001b[0;34m.\u001b[0m\u001b[0mQ\u001b[0m\u001b[0;34m[\u001b[0m\u001b[0mstate_new\u001b[0m\u001b[0;34m]\u001b[0m\u001b[0;34m)\u001b[0m \u001b[0;34m-\u001b[0m \u001b[0mself\u001b[0m\u001b[0;34m.\u001b[0m\u001b[0mQ\u001b[0m\u001b[0;34m[\u001b[0m\u001b[0mstate_old\u001b[0m\u001b[0;34m]\u001b[0m\u001b[0;34m[\u001b[0m\u001b[0maction\u001b[0m\u001b[0;34m]\u001b[0m\u001b[0;34m)\u001b[0m\u001b[0;34m\u001b[0m\u001b[0m\n\u001b[0m\u001b[1;32m     37\u001b[0m \u001b[0;34m\u001b[0m\u001b[0m\n\u001b[1;32m     38\u001b[0m     \u001b[0;32mdef\u001b[0m \u001b[0mget_epsilon\u001b[0m\u001b[0;34m(\u001b[0m\u001b[0mself\u001b[0m\u001b[0;34m,\u001b[0m \u001b[0mt\u001b[0m\u001b[0;34m)\u001b[0m\u001b[0;34m:\u001b[0m\u001b[0;34m\u001b[0m\u001b[0m\n",
      "\u001b[0;31mIndexError\u001b[0m: only integers, slices (`:`), ellipsis (`...`), numpy.newaxis (`None`) and integer or boolean arrays are valid indices"
     ]
    }
   ],
   "source": [
    "#todo - modify qlearner for dict based state space\n",
    "from qlearner import QLearner\n",
    "qagent = QLearner(env, n_episodes=1000, min_alpha=0.1,\n",
    "                 min_epsilon=0.1, gamma=0.9, ada_divisor=25, max_env_steps=None,\n",
    "                 quiet=False)\n",
    "qagent.run()"
   ]
  },
  {
   "cell_type": "code",
   "execution_count": null,
   "metadata": {
    "collapsed": true
   },
   "outputs": [],
   "source": [
    "from cem_learner import train as cemtrain"
   ]
  },
  {
   "cell_type": "code",
   "execution_count": null,
   "metadata": {
    "collapsed": true
   },
   "outputs": [],
   "source": [
    "cem_agent = cemtrain(env)\n",
    "ob = env.reset()\n",
    "for t in range(1000):\n",
    "    action = cem_agent.act(ob)\n",
    "    (ob, reward, done, _info) = env.step(action)\n",
    "    print('action:{},state:{} reward:{}'.format(action, ob, reward))\n",
    "    if done: break"
   ]
  },
  {
   "cell_type": "code",
   "execution_count": null,
   "metadata": {
    "collapsed": true
   },
   "outputs": [],
   "source": [
    "blackjack_env = gym.make('Blackjack-v0')\n",
    "blackjack_cemagent = cemtrain(blackjack_env)"
   ]
  },
  {
   "cell_type": "code",
   "execution_count": null,
   "metadata": {
    "collapsed": true
   },
   "outputs": [],
   "source": [
    "for e in range(100):\n",
    "    ob = blackjack_env.reset()\n",
    "    print('ob init: ', ob)\n",
    "    for t in range(1000):\n",
    "        action = blackjack_cemagent.act(ob)\n",
    "        (ob, reward, done, _info) = blackjack_env.step(action)\n",
    "        print('action:{},state:{} reward:{}'.format(action, ob, reward))\n",
    "        if done: break"
   ]
  },
  {
   "cell_type": "code",
   "execution_count": 12,
   "metadata": {},
   "outputs": [],
   "source": [
    "import collections\n",
    "Q = collections.defaultdict(dict)"
   ]
  },
  {
   "cell_type": "code",
   "execution_count": 15,
   "metadata": {},
   "outputs": [],
   "source": [
    "def get_maxq_action(Q, state, env):\n",
    "    state_q = Q.get(stringify(state))\n",
    "    return max(state_q, key=state_q.get) if state_q else env.action_space.sample()"
   ]
  },
  {
   "cell_type": "code",
   "execution_count": 23,
   "metadata": {},
   "outputs": [
    {
     "data": {
      "text/plain": [
       "0"
      ]
     },
     "execution_count": 23,
     "metadata": {},
     "output_type": "execute_result"
    }
   ],
   "source": [
    "vals = {}.values()\n",
    "max(vals) if vals else 0"
   ]
  },
  {
   "cell_type": "code",
   "execution_count": 17,
   "metadata": {},
   "outputs": [
    {
     "data": {
      "text/plain": [
       "OrderedDict([('S0', (1, 9)), ('S1', (1, 7))])"
      ]
     },
     "execution_count": 17,
     "metadata": {},
     "output_type": "execute_result"
    }
   ],
   "source": []
  },
  {
   "cell_type": "code",
   "execution_count": null,
   "metadata": {
    "collapsed": true
   },
   "outputs": [],
   "source": []
  },
  {
   "cell_type": "code",
   "execution_count": null,
   "metadata": {
    "collapsed": true
   },
   "outputs": [],
   "source": []
  }
 ],
 "metadata": {
  "kernelspec": {
   "display_name": "continuous",
   "language": "python",
   "name": "continuous"
  },
  "language_info": {
   "codemirror_mode": {
    "name": "ipython",
    "version": 3
   },
   "file_extension": ".py",
   "mimetype": "text/x-python",
   "name": "python",
   "nbconvert_exporter": "python",
   "pygments_lexer": "ipython3",
   "version": "3.4.3"
  }
 },
 "nbformat": 4,
 "nbformat_minor": 2
}
