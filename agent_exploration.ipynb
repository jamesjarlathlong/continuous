{
 "cells": [
  {
   "cell_type": "code",
   "execution_count": 1,
   "metadata": {
    "collapsed": true
   },
   "outputs": [],
   "source": [
    "import gym\n",
    "import seaborn as sns\n",
    "from gym import spaces\n",
    "from gym.utils import seeding\n",
    "from gym.envs.registration import registry, register, make, spec\n",
    "import matplotlib\n",
    "import matplotlib.pyplot as plt\n",
    "%matplotlib inline"
   ]
  },
  {
   "cell_type": "code",
   "execution_count": 2,
   "metadata": {},
   "outputs": [],
   "source": [
    "register(\n",
    "    id='Sensor-v0',\n",
    "    entry_point='sensor_env:SensorEnv',\n",
    ")\n",
    "register(\n",
    "    id='MultiSensor-v0',\n",
    "    entry_point='multi_sensor_env:MultiSensorEnv',\n",
    ")\n",
    "register(\n",
    "    id='TestMultiSensor-v0',\n",
    "    entry_point='multi_sensor_env:TestSensorEnv',\n",
    ")"
   ]
  },
  {
   "cell_type": "code",
   "execution_count": 3,
   "metadata": {},
   "outputs": [],
   "source": [
    "env = gym.make('TestMultiSensor-v0')\n"
   ]
  },
  {
   "cell_type": "code",
   "execution_count": null,
   "metadata": {},
   "outputs": [],
   "source": [
    "class RandomAgent(object):\n",
    "    \"\"\"The world's simplest agent!\"\"\"\n",
    "    def __init__(self, action_space):\n",
    "        self.action_space = action_space\n",
    "    def act(self, observation, reward, done):\n",
    "        return self.action_space.sample()\n",
    "agent = RandomAgent(env.action_space)\n",
    "episode_count = 10\n",
    "reward = 0\n",
    "done=False\n",
    "for i in range(episode_count):\n",
    "        ob = env.reset()\n",
    "        while True:\n",
    "            action = agent.act(ob, reward, done)\n",
    "            print('action: ', action)\n",
    "            ob, reward, done, _ = env.step(action)\n",
    "            if done:\n",
    "                break"
   ]
  },
  {
   "cell_type": "code",
   "execution_count": null,
   "metadata": {},
   "outputs": [
    {
     "name": "stdout",
     "output_type": "stream",
     "text": [
      "[Episode 0] - Mean survival time over last 100 episodes was 11.0 ticks.\n",
      "[Episode 100] - Mean survival time over last 100 episodes was 16.06 ticks.\n",
      "[Episode 200] - Mean survival time over last 100 episodes was 44.56 ticks.\n",
      "[Episode 300] - Mean survival time over last 100 episodes was 512.36 ticks.\n",
      "[Episode 400] - Mean survival time over last 100 episodes was 876.72 ticks.\n"
     ]
    }
   ],
   "source": [
    "#todo - modify qlearner for dict based state space\n",
    "from qlearner import QLearner\n",
    "qagent = QLearner(env, n_episodes=10000, min_alpha=0.01,\n",
    "                 min_epsilon=0.01, gamma=0.99, ada_divisor=25, max_env_steps=None,\n",
    "                 quiet=False)\n",
    "qagent.run()"
   ]
  },
  {
   "cell_type": "code",
   "execution_count": null,
   "metadata": {},
   "outputs": [],
   "source": []
  },
  {
   "cell_type": "code",
   "execution_count": null,
   "metadata": {},
   "outputs": [],
   "source": []
  },
  {
   "cell_type": "code",
   "execution_count": null,
   "metadata": {},
   "outputs": [],
   "source": []
  },
  {
   "cell_type": "code",
   "execution_count": null,
   "metadata": {
    "collapsed": true
   },
   "outputs": [],
   "source": []
  },
  {
   "cell_type": "code",
   "execution_count": null,
   "metadata": {
    "collapsed": true
   },
   "outputs": [],
   "source": []
  },
  {
   "cell_type": "code",
   "execution_count": null,
   "metadata": {
    "collapsed": true
   },
   "outputs": [],
   "source": []
  },
  {
   "cell_type": "code",
   "execution_count": null,
   "metadata": {
    "collapsed": true
   },
   "outputs": [],
   "source": []
  },
  {
   "cell_type": "code",
   "execution_count": null,
   "metadata": {
    "collapsed": true
   },
   "outputs": [],
   "source": []
  },
  {
   "cell_type": "code",
   "execution_count": null,
   "metadata": {
    "collapsed": true
   },
   "outputs": [],
   "source": []
  }
 ],
 "metadata": {
  "kernelspec": {
   "display_name": "continuous",
   "language": "python",
   "name": "continuous"
  },
  "language_info": {
   "codemirror_mode": {
    "name": "ipython",
    "version": 3
   },
   "file_extension": ".py",
   "mimetype": "text/x-python",
   "name": "python",
   "nbconvert_exporter": "python",
   "pygments_lexer": "ipython3",
   "version": "3.4.3"
  }
 },
 "nbformat": 4,
 "nbformat_minor": 2
}
