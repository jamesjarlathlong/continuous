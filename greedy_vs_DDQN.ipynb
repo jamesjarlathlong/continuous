{
 "cells": [
  {
   "cell_type": "code",
   "execution_count": 44,
   "metadata": {},
   "outputs": [],
   "source": [
    "import matplotlib.pyplot as plt\n",
    "import json\n",
    "import seaborn as sns\n",
    "import pandas as pd\n",
    "from matplotlib import rc\n",
    "rc('text', usetex=True)\n",
    "sns.set(font='serif', style='white')"
   ]
  },
  {
   "cell_type": "code",
   "execution_count": 26,
   "metadata": {},
   "outputs": [],
   "source": [
    "with open('tmp/rewardcuysq_6000_preserve3b_fulllearnedseen0.json') as f:\n",
    "    learnedseen = json.load(f)['data'][2::]\n",
    "todf1 = pd.DataFrame([{'category':'Training Data', 'algorithm':'DDQN','Score':i/2400} for i in learnedseen])"
   ]
  },
  {
   "cell_type": "code",
   "execution_count": 64,
   "metadata": {},
   "outputs": [],
   "source": [
    "with open('tmp/rewardnsyot_fullnaiveseen.json') as f:\n",
    "    naiveseen = json.load(f)['data'][2::]\n",
    "todf2 = pd.DataFrame([{'category':'Training Data','algorithm':'Greedy', 'Score':i/2400} for i in naiveseen])"
   ]
  },
  {
   "cell_type": "code",
   "execution_count": 73,
   "metadata": {},
   "outputs": [],
   "source": [
    "with open('tmp/rewardcuysq_6000_preserve3b_longlearnedunseenc.json') as f:\n",
    "    learnedunseen = json.load(f)['data'][2::]\n",
    "todf3 = pd.DataFrame([{'category':'Unseen Data','algorithm':'DDQN', 'Score':i/2400} for i in learnedunseen])\n"
   ]
  },
  {
   "cell_type": "code",
   "execution_count": 61,
   "metadata": {},
   "outputs": [],
   "source": [
    "with open('tmp/rewarddtgtb_fullnaiveunseen.json') as f:\n",
    "    naiveunseen = json.load(f)['data'][2::]\n",
    "todf4 = pd.DataFrame([{'category':'Unseen Data','algorithm':'Greedy', 'Score':i/2400} for i in naiveunseen])\n",
    "\n"
   ]
  },
  {
   "cell_type": "code",
   "execution_count": 74,
   "metadata": {},
   "outputs": [
    {
     "data": {
      "image/png": "[encoded data removed]",
      "text/plain": [
       "<Figure size 432x288 with 1 Axes>"
      ]
     },
     "metadata": {},
     "output_type": "display_data"
    }
   ],
   "source": [
    "df = todf1.append(todf2).append(todf3).append(todf4)\n",
    "fig,ax = plt.subplots(1)\n",
    "sns.boxplot(x='category',y='Score',hue='algorithm',data=df, palette='Greys',ax=ax)\n",
    "ax.set_ylabel('Average episode score')\n",
    "ax.set_xlabel('')\n",
    "l = ax.legend(loc='lower left')\n",
    "l.get_frame().set_facecolor('none')\n",
    "sns.despine()\n",
    "fig.savefig('performance.png', dpi=600)\n",
    "#add mean text"
   ]
  },
  {
   "cell_type": "code",
   "execution_count": 3,
   "metadata": {},
   "outputs": [
    {
     "data": {
      "text/plain": [
       "0.6666666666666666"
      ]
     },
     "execution_count": 3,
     "metadata": {},
     "output_type": "execute_result"
    }
   ],
   "source": [
    "320/480"
   ]
  },
  {
   "cell_type": "code",
   "execution_count": null,
   "metadata": {},
   "outputs": [],
   "source": []
  }
 ],
 "metadata": {
  "kernelspec": {
   "display_name": "continuous",
   "language": "python",
   "name": "continuous"
  },
  "language_info": {
   "codemirror_mode": {
    "name": "ipython",
    "version": 3
   },
   "file_extension": ".py",
   "mimetype": "text/x-python",
   "name": "python",
   "nbconvert_exporter": "python",
   "pygments_lexer": "ipython3",
   "version": "3.5.2"
  }
 },
 "nbformat": 4,
 "nbformat_minor": 2
}
