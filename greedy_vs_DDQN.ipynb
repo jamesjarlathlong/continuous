{
 "cells": [
  {
   "cell_type": "code",
   "execution_count": 10,
   "metadata": {},
   "outputs": [],
   "source": [
    "import matplotlib.pyplot as plt\n",
    "import json\n",
    "import seaborn as sns\n",
    "import pandas as pd\n",
    "from matplotlib import rc\n",
    "rc('text', usetex=True)\n",
    "sns.set(font='serif', style='white')"
   ]
  },
  {
   "cell_type": "code",
   "execution_count": 11,
   "metadata": {},
   "outputs": [],
   "source": [
    "with open('tmp/rewardcuysq_6000_preserve3b_fulllearnedseen0.json') as f:\n",
    "    learnedseen = json.load(f)['data'][2::]\n",
    "todf1 = pd.DataFrame([{'category':'Training Data', 'algorithm':'DDQN','Score':i/2400} for i in learnedseen])"
   ]
  },
  {
   "cell_type": "code",
   "execution_count": 12,
   "metadata": {},
   "outputs": [],
   "source": [
    "with open('tmp/rewardnsyot_fullnaiveseen.json') as f:\n",
    "    naiveseen = json.load(f)['data'][2::]\n",
    "todf2 = pd.DataFrame([{'category':'Training Data','algorithm':'Greedy', 'Score':i/2400} for i in naiveseen])"
   ]
  },
  {
   "cell_type": "code",
   "execution_count": 13,
   "metadata": {},
   "outputs": [],
   "source": [
    "with open('tmp/rewardcuysq_6000_preserve3b_longlearnedunseenc.json') as f:\n",
    "    learnedunseen = json.load(f)['data'][2::]\n",
    "todf3 = pd.DataFrame([{'category':'Unseen Data','algorithm':'DDQN', 'Score':i/2400} for i in learnedunseen])\n"
   ]
  },
  {
   "cell_type": "code",
   "execution_count": 14,
   "metadata": {},
   "outputs": [],
   "source": [
    "with open('tmp/rewarddtgtb_fullnaiveunseen.json') as f:\n",
    "    naiveunseen = json.load(f)['data'][2::]\n",
    "todf4 = pd.DataFrame([{'category':'Unseen Data','algorithm':'Greedy', 'Score':i/2400} for i in naiveunseen])\n",
    "\n"
   ]
  },
  {
   "cell_type": "code",
   "execution_count": 15,
   "metadata": {},
   "outputs": [
    {
     "name": "stdout",
     "output_type": "stream",
     "text": [
      "[966.1875, 1093.8125, 943.875, 1070.375, 966.875, 1059.125, 957.75, 1090.4375, 1043.375, 892.6875]\n"
     ]
    }
   ],
   "source": [
    "with open('tmp/rewardhtbdt_lpunseenperfect.json') as f:\n",
    "    lpseen = json.load(f)['data'][2::]\n",
    "todf5 = pd.DataFrame([{'category':'Training Data','algorithm':'LP', 'Score':i/2400} for i in naiveunseen])\n",
    "print(lpseen[0:10])"
   ]
  },
  {
   "cell_type": "code",
   "execution_count": 18,
   "metadata": {},
   "outputs": [
    {
     "name": "stdout",
     "output_type": "stream",
     "text": [
      "[966.1875, 1093.8125, 943.875, 1070.375, 966.875, 1059.125, 957.75, 1090.4375, 1043.375, 892.6875]\n"
     ]
    }
   ],
   "source": [
    "with open('tmp/rewardibyks_lpununseenperfect.json') as f:\n",
    "    lpunseen = json.load(f)['data'][2::]\n",
    "todf6 = pd.DataFrame([{'category':'Unseen Data','algorithm':'LP', 'Score':i/2400} for i in naiveunseen])\n",
    "print(lpseen[0:10])"
   ]
  },
  {
   "cell_type": "code",
   "execution_count": 19,
   "metadata": {},
   "outputs": [
    {
     "data": {
      "image/png": "[encoded data removed]",
      "text/plain": [
       "<Figure size 432x288 with 1 Axes>"
      ]
     },
     "metadata": {},
     "output_type": "display_data"
    }
   ],
   "source": [
    "df = todf1.append(todf2).append(todf3).append(todf4).append(todf5).append(todf6)\n",
    "fig,ax = plt.subplots(1)\n",
    "sns.boxplot(x='category',y='Score',hue='algorithm',data=df, palette='Greys',ax=ax)\n",
    "ax.set_ylabel('Average episode score')\n",
    "ax.set_xlabel('')\n",
    "l = ax.legend(loc='lower left')\n",
    "l.get_frame().set_facecolor('none')\n",
    "sns.despine()\n",
    "fig.savefig('performance.png', dpi=600)\n",
    "#add mean text"
   ]
  },
  {
   "cell_type": "code",
   "execution_count": 25,
   "metadata": {},
   "outputs": [
    {
     "ename": "NameError",
     "evalue": "name 'np' is not defined",
     "output_type": "error",
     "traceback": [
      "\u001b[0;31m---------------------------------------------------------------------------\u001b[0m",
      "\u001b[0;31mNameError\u001b[0m                                 Traceback (most recent call last)",
      "\u001b[0;32m<ipython-input-25-788dc176500c>\u001b[0m in \u001b[0;36m<module>\u001b[0;34m()\u001b[0m\n\u001b[0;32m----> 1\u001b[0;31m \u001b[0mnp\u001b[0m\u001b[0;34m.\u001b[0m\u001b[0mmean\u001b[0m\u001b[0;34m(\u001b[0m\u001b[0mLP\u001b[0m\u001b[0;34m)\u001b[0m\u001b[0;34m\u001b[0m\u001b[0m\n\u001b[0m",
      "\u001b[0;31mNameError\u001b[0m: name 'np' is not defined"
     ]
    }
   ],
   "source": [
    "np.mean(LP)"
   ]
  },
  {
   "cell_type": "code",
   "execution_count": null,
   "metadata": {},
   "outputs": [],
   "source": []
  }
 ],
 "metadata": {
  "kernelspec": {
   "display_name": "continuous",
   "language": "python",
   "name": "continuous"
  },
  "language_info": {
   "codemirror_mode": {
    "name": "ipython",
    "version": 3
   },
   "file_extension": ".py",
   "mimetype": "text/x-python",
   "name": "python",
   "nbconvert_exporter": "python",
   "pygments_lexer": "ipython3",
   "version": "3.5.2"
  }
 },
 "nbformat": 4,
 "nbformat_minor": 2
}
